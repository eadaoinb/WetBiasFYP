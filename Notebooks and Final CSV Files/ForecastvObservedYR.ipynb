{
 "cells": [
  {
   "cell_type": "code",
   "execution_count": 1,
   "metadata": {},
   "outputs": [],
   "source": [
    "import pandas as pd\n",
    "import numpy as np\n",
    "import matplotlib.pyplot as plt  "
   ]
  },
  {
   "cell_type": "code",
   "execution_count": 2,
   "metadata": {},
   "outputs": [],
   "source": [
    "actualXML = pd.read_csv(\"./observedXML.csv\")\n",
    "actualJSON =  pd.read_csv(\"observedValues.csv\", names=['Date', 'Amounts', 'Location'])\n",
    "\n",
    "actualXML = actualXML.rename(columns={'date':'Date',\n",
    "                          'rain':'Amount',\n",
    "                          'location':'Location'})\n",
    "actualXML['Date']= pd.to_datetime(actualXML['Date'])\n"
   ]
  },
  {
   "cell_type": "code",
   "execution_count": 3,
   "metadata": {},
   "outputs": [],
   "source": [
    "actualJSON['Date']= pd.to_datetime(actualJSON['Date'])"
   ]
  },
  {
   "cell_type": "code",
   "execution_count": 4,
   "metadata": {},
   "outputs": [
    {
     "name": "stdout",
     "output_type": "stream",
     "text": [
      "<class 'pandas.core.frame.DataFrame'>\n",
      "RangeIndex: 340 entries, 0 to 339\n",
      "Data columns (total 3 columns):\n",
      "Date        340 non-null datetime64[ns]\n",
      "Amount      340 non-null float64\n",
      "Location    340 non-null object\n",
      "dtypes: datetime64[ns](1), float64(1), object(1)\n",
      "memory usage: 8.1+ KB\n"
     ]
    }
   ],
   "source": [
    "actualXML.info()"
   ]
  },
  {
   "cell_type": "code",
   "execution_count": 5,
   "metadata": {
    "scrolled": false
   },
   "outputs": [],
   "source": [
    "start_date = pd.to_datetime('2020-01-07')\n",
    "end_date = pd.to_datetime('2020-03-31')\n",
    "\n",
    "mask = (actualXML['Date'] >= start_date) & (actualXML['Date'] <= end_date)\n",
    "\n",
    "actualXML = actualXML.loc[mask]\n"
   ]
  },
  {
   "cell_type": "code",
   "execution_count": 6,
   "metadata": {},
   "outputs": [],
   "source": [
    "start_date ='2020-01-07'\n",
    "end_date = '2020-03-31'\n",
    "\n",
    "mask = (actualJSON['Date'] >= start_date) & (actualJSON['Date'] <= end_date)\n",
    "\n",
    "actualJSON = actualJSON.loc[mask]"
   ]
  },
  {
   "cell_type": "code",
   "execution_count": 7,
   "metadata": {},
   "outputs": [],
   "source": [
    "merged = pd.merge(actualXML, actualJSON, on=['Date', 'Location'])"
   ]
  },
  {
   "cell_type": "code",
   "execution_count": 8,
   "metadata": {},
   "outputs": [],
   "source": [
    "merged[\"NewAmount\"]= (merged[\"Amount\"] + merged[\"Amounts\"]) / 2"
   ]
  },
  {
   "cell_type": "code",
   "execution_count": 9,
   "metadata": {},
   "outputs": [],
   "source": [
    "df = pd.read_csv(\"forecastYR.csv\")"
   ]
  },
  {
   "cell_type": "code",
   "execution_count": 10,
   "metadata": {},
   "outputs": [
    {
     "data": {
      "image/png": "[encoded data removed]",
      "text/plain": [
       "<Figure size 576x432 with 1 Axes>"
      ]
     },
     "metadata": {
      "needs_background": "light"
     },
     "output_type": "display_data"
    }
   ],
   "source": [
    "OneDayAhead = df[['Provider','Location', 'One_Day_Ahead', 'DateOne']].copy()\n",
    "OneDayAhead['Date'] = pd.to_datetime(OneDayAhead['DateOne'])\n",
    "result = pd.merge(OneDayAhead, merged, on=['Date', 'Location'])\n",
    "result[\"Difference\"] = result['One_Day_Ahead'] - result['NewAmount']\n",
    "boxplotOne = result.boxplot(by = 'Location', column = ['Difference'], figsize=(8, 6) )"
   ]
  },
  {
   "cell_type": "code",
   "execution_count": 11,
   "metadata": {},
   "outputs": [
    {
     "data": {
      "text/plain": [
       "2.6644271774114623"
      ]
     },
     "execution_count": 11,
     "metadata": {},
     "output_type": "execute_result"
    }
   ],
   "source": [
    "from sklearn.metrics import mean_squared_error\n",
    "from math import sqrt\n",
    "\n",
    "rmsOne = sqrt(mean_squared_error(result[\"NewAmount\"], result[\"One_Day_Ahead\"]))\n",
    "rmsOne"
   ]
  },
  {
   "cell_type": "code",
   "execution_count": 12,
   "metadata": {},
   "outputs": [],
   "source": [
    "sumXML = result[\"Amount\"].sum()"
   ]
  },
  {
   "cell_type": "code",
   "execution_count": 13,
   "metadata": {},
   "outputs": [],
   "source": [
    "sumJSON = result[\"Amounts\"].sum()"
   ]
  },
  {
   "cell_type": "code",
   "execution_count": 14,
   "metadata": {},
   "outputs": [
    {
     "data": {
      "text/plain": [
       "1129.5"
      ]
     },
     "execution_count": 14,
     "metadata": {},
     "output_type": "execute_result"
    }
   ],
   "source": [
    "sumXML"
   ]
  },
  {
   "cell_type": "code",
   "execution_count": 15,
   "metadata": {},
   "outputs": [
    {
     "data": {
      "text/plain": [
       "1108.3536"
      ]
     },
     "execution_count": 15,
     "metadata": {},
     "output_type": "execute_result"
    }
   ],
   "source": [
    "sumJSON"
   ]
  },
  {
   "cell_type": "code",
   "execution_count": 16,
   "metadata": {},
   "outputs": [
    {
     "data": {
      "image/png": "[encoded data removed]",
      "text/plain": [
       "<Figure size 576x432 with 1 Axes>"
      ]
     },
     "metadata": {
      "needs_background": "light"
     },
     "output_type": "display_data"
    }
   ],
   "source": [
    "df1 = pd.DataFrame({'Actuals':['Met Eireann', 'DarkSky'], 'Values':[sumXML, sumJSON]})\n",
    "ax = df1.plot.bar(x= 'Actuals', y= 'Values', rot=0, figsize=(8, 6))\n",
    "for p in ax.patches:\n",
    "    ax.annotate(str(p.get_height()), (p.get_x() * 1.005, p.get_height() * 1.005))\n"
   ]
  },
  {
   "cell_type": "code",
   "execution_count": 17,
   "metadata": {},
   "outputs": [
    {
     "data": {
      "image/png": "[encoded data removed]",
      "text/plain": [
       "<Figure size 576x432 with 1 Axes>"
      ]
     },
     "metadata": {
      "needs_background": "light"
     },
     "output_type": "display_data"
    }
   ],
   "source": [
    "ThreeDayAhead = df[['Provider','Location', 'Three_Days_Ahead', 'DateThree']].copy()\n",
    "ThreeDayAhead['Date'] = pd.to_datetime(ThreeDayAhead['DateThree'])\n",
    "resultThree = pd.merge(ThreeDayAhead, merged, on=['Date', 'Location'])\n",
    "resultThree[\"Difference\"] = resultThree['Three_Days_Ahead'] - resultThree['NewAmount']\n",
    "boxplotThree = resultThree.boxplot(by = 'Location', column = ['Difference'], figsize=(8, 6))"
   ]
  },
  {
   "cell_type": "code",
   "execution_count": 18,
   "metadata": {},
   "outputs": [
    {
     "data": {
      "text/plain": [
       "4.377190864094721"
      ]
     },
     "execution_count": 18,
     "metadata": {},
     "output_type": "execute_result"
    }
   ],
   "source": [
    "from sklearn.metrics import mean_squared_error\n",
    "from math import sqrt\n",
    "\n",
    "rmsThree = sqrt(mean_squared_error(resultThree[\"NewAmount\"], resultThree[\"Three_Days_Ahead\"]))\n",
    "rmsThree"
   ]
  },
  {
   "cell_type": "code",
   "execution_count": 19,
   "metadata": {},
   "outputs": [
    {
     "data": {
      "image/png": "[encoded data removed]",
      "text/plain": [
       "<Figure size 576x432 with 1 Axes>"
      ]
     },
     "metadata": {
      "needs_background": "light"
     },
     "output_type": "display_data"
    }
   ],
   "source": [
    "FiveDayAhead = df[['Provider','Location', 'Five_Days_Ahead', 'DateFive']].copy()\n",
    "FiveDayAhead['Date'] = pd.to_datetime(FiveDayAhead['DateFive'])\n",
    "resultFive = pd.merge(FiveDayAhead, merged, on=['Date', 'Location'])\n",
    "resultFive[\"Difference\"] = resultFive['Five_Days_Ahead'] - resultFive['NewAmount']\n",
    "boxplotFive = resultFive.boxplot(by = 'Location', column = ['Difference'], figsize=(8, 6))"
   ]
  },
  {
   "cell_type": "code",
   "execution_count": 20,
   "metadata": {},
   "outputs": [
    {
     "data": {
      "text/plain": [
       "5.542198881043249"
      ]
     },
     "execution_count": 20,
     "metadata": {},
     "output_type": "execute_result"
    }
   ],
   "source": [
    "rmsFive = sqrt(mean_squared_error(resultFive[\"NewAmount\"], resultFive[\"Five_Days_Ahead\"]))\n",
    "rmsFive"
   ]
  },
  {
   "cell_type": "code",
   "execution_count": 21,
   "metadata": {},
   "outputs": [
    {
     "data": {
      "text/html": [
       "<div>\n",
       "<style scoped>\n",
       "    .dataframe tbody tr th:only-of-type {\n",
       "        vertical-align: middle;\n",
       "    }\n",
       "\n",
       "    .dataframe tbody tr th {\n",
       "        vertical-align: top;\n",
       "    }\n",
       "\n",
       "    .dataframe thead th {\n",
       "        text-align: right;\n",
       "    }\n",
       "</style>\n",
       "<table border=\"1\" class=\"dataframe\">\n",
       "  <thead>\n",
       "    <tr style=\"text-align: right;\">\n",
       "      <th></th>\n",
       "      <th>Date</th>\n",
       "      <th>Amount</th>\n",
       "      <th>Location</th>\n",
       "      <th>Amounts</th>\n",
       "      <th>NewAmount</th>\n",
       "    </tr>\n",
       "  </thead>\n",
       "  <tbody>\n",
       "    <tr>\n",
       "      <td>0</td>\n",
       "      <td>2020-01-07</td>\n",
       "      <td>2.4</td>\n",
       "      <td>Donegal</td>\n",
       "      <td>10.7328</td>\n",
       "      <td>6.5664</td>\n",
       "    </tr>\n",
       "    <tr>\n",
       "      <td>1</td>\n",
       "      <td>2020-01-08</td>\n",
       "      <td>2.5</td>\n",
       "      <td>Donegal</td>\n",
       "      <td>0.7488</td>\n",
       "      <td>1.6244</td>\n",
       "    </tr>\n",
       "    <tr>\n",
       "      <td>2</td>\n",
       "      <td>2020-01-09</td>\n",
       "      <td>0.8</td>\n",
       "      <td>Donegal</td>\n",
       "      <td>4.0032</td>\n",
       "      <td>2.4016</td>\n",
       "    </tr>\n",
       "    <tr>\n",
       "      <td>3</td>\n",
       "      <td>2020-01-10</td>\n",
       "      <td>2.6</td>\n",
       "      <td>Donegal</td>\n",
       "      <td>5.9664</td>\n",
       "      <td>4.2832</td>\n",
       "    </tr>\n",
       "    <tr>\n",
       "      <td>4</td>\n",
       "      <td>2020-01-11</td>\n",
       "      <td>17.5</td>\n",
       "      <td>Donegal</td>\n",
       "      <td>21.0144</td>\n",
       "      <td>19.2572</td>\n",
       "    </tr>\n",
       "  </tbody>\n",
       "</table>\n",
       "</div>"
      ],
      "text/plain": [
       "        Date  Amount Location  Amounts  NewAmount\n",
       "0 2020-01-07     2.4  Donegal  10.7328     6.5664\n",
       "1 2020-01-08     2.5  Donegal   0.7488     1.6244\n",
       "2 2020-01-09     0.8  Donegal   4.0032     2.4016\n",
       "3 2020-01-10     2.6  Donegal   5.9664     4.2832\n",
       "4 2020-01-11    17.5  Donegal  21.0144    19.2572"
      ]
     },
     "execution_count": 21,
     "metadata": {},
     "output_type": "execute_result"
    }
   ],
   "source": [
    "merged.head()"
   ]
  },
  {
   "cell_type": "code",
   "execution_count": 22,
   "metadata": {},
   "outputs": [],
   "source": [
    "DublinXML = merged.loc[merged['Location'] == 'Dublin', 'Amount'].sum()\n",
    "DonegalXML = merged.loc[merged['Location'] == 'Donegal', 'Amount'].sum()\n",
    "MayoXML = merged.loc[merged['Location'] == 'Mayo', 'Amount'].sum()\n",
    "WexfordXML = merged.loc[merged['Location'] == 'Wexford', 'Amount'].sum()"
   ]
  },
  {
   "cell_type": "code",
   "execution_count": 23,
   "metadata": {},
   "outputs": [],
   "source": [
    "DublinJSON = merged.loc[merged['Location'] == 'Dublin', 'Amounts'].sum()\n",
    "DonegalJSON = merged.loc[merged['Location'] == 'Donegal', 'Amounts'].sum()\n",
    "MayoJSON = merged.loc[merged['Location'] == 'Mayo', 'Amounts'].sum()\n",
    "WexfordJSON = merged.loc[merged['Location'] == 'Wexford', 'Amounts'].sum()"
   ]
  },
  {
   "cell_type": "code",
   "execution_count": 24,
   "metadata": {},
   "outputs": [
    {
     "data": {
      "image/png": "[encoded data removed]",
      "text/plain": [
       "<Figure size 720x720 with 1 Axes>"
      ]
     },
     "metadata": {
      "needs_background": "light"
     },
     "output_type": "display_data"
    }
   ],
   "source": [
    "XML = [DublinXML,DonegalXML,MayoXML, WexfordXML]\n",
    "JSON = [DublinJSON,DonegalJSON,MayoJSON, WexfordJSON]\n",
    "\n",
    "index = [\"Dublin\", \"Donegal\", \"Mayo\", \"Wexford\"]\n",
    "\n",
    "df2 = pd.DataFrame({'Met': XML, 'DarkSky': JSON}, index=index)\n",
    "ax = df2.plot.bar(rot=0, figsize= (10,10))"
   ]
  }
 ],
 "metadata": {
  "kernelspec": {
   "display_name": "Python 3",
   "language": "python",
   "name": "python3"
  },
  "language_info": {
   "codemirror_mode": {
    "name": "ipython",
    "version": 3
   },
   "file_extension": ".py",
   "mimetype": "text/x-python",
   "name": "python",
   "nbconvert_exporter": "python",
   "pygments_lexer": "ipython3",
   "version": "3.7.4"
  }
 },
 "nbformat": 4,
 "nbformat_minor": 2
}
