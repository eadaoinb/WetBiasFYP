{
 "cells": [
  {
   "cell_type": "code",
   "execution_count": 1,
   "metadata": {},
   "outputs": [],
   "source": [
    "import numpy as np\n",
    "import pandas as pd\n",
    "import requests\n",
    "import json\n",
    "import datetime\n",
    "from pandas.io.json import json_normalize \n",
    "import json"
   ]
  },
  {
   "cell_type": "code",
   "execution_count": 2,
   "metadata": {},
   "outputs": [
    {
     "data": {
      "text/plain": [
       "DatetimeIndex(['2020-01-07', '2020-01-08', '2020-01-09', '2020-01-10',\n",
       "               '2020-01-11', '2020-01-12', '2020-01-13', '2020-01-14',\n",
       "               '2020-01-15', '2020-01-16', '2020-01-17', '2020-01-18',\n",
       "               '2020-01-19', '2020-01-20', '2020-01-21', '2020-01-22',\n",
       "               '2020-01-23', '2020-01-24', '2020-01-25', '2020-01-26',\n",
       "               '2020-01-27', '2020-01-28', '2020-01-29', '2020-01-30',\n",
       "               '2020-01-31', '2020-02-01', '2020-02-02', '2020-02-03',\n",
       "               '2020-02-04', '2020-02-05', '2020-02-06', '2020-02-07',\n",
       "               '2020-02-08', '2020-02-09', '2020-02-10', '2020-02-11',\n",
       "               '2020-02-12', '2020-02-13', '2020-02-14', '2020-02-15',\n",
       "               '2020-02-16', '2020-02-17', '2020-02-18', '2020-02-19',\n",
       "               '2020-02-20', '2020-02-21', '2020-02-22', '2020-02-23',\n",
       "               '2020-02-24', '2020-02-25', '2020-02-26', '2020-02-27',\n",
       "               '2020-02-28', '2020-02-29', '2020-03-01', '2020-03-02',\n",
       "               '2020-03-03', '2020-03-04', '2020-03-05', '2020-03-06',\n",
       "               '2020-03-07', '2020-03-08', '2020-03-09', '2020-03-10',\n",
       "               '2020-03-11', '2020-03-12', '2020-03-13', '2020-03-14',\n",
       "               '2020-03-15', '2020-03-16', '2020-03-17', '2020-03-18',\n",
       "               '2020-03-19', '2020-03-20', '2020-03-21', '2020-03-22',\n",
       "               '2020-03-23', '2020-03-24', '2020-03-25', '2020-03-26',\n",
       "               '2020-03-27', '2020-03-28', '2020-03-29', '2020-03-30',\n",
       "               '2020-03-31'],\n",
       "              dtype='datetime64[ns]', freq='D')"
      ]
     },
     "execution_count": 2,
     "metadata": {},
     "output_type": "execute_result"
    }
   ],
   "source": [
    "#range of dates I want the acuals from.\n",
    "from datetime import datetime\n",
    "start = datetime(2020, 1, 7)\n",
    "\n",
    "end = datetime(2020, 3, 31)\n",
    "\n",
    "index = pd.date_range(start, end)\n",
    "index"
   ]
  },
  {
   "cell_type": "code",
   "execution_count": 3,
   "metadata": {},
   "outputs": [],
   "source": [
    "#Dublin\n",
    "data = []\n",
    "for i in index:\n",
    "    unix_time = i.strftime(\"%s\")\n",
    "    #url for dark sky, coordinates for dublin\n",
    "    url = \"https://api.darksky.net/forecast/683bc0b700f80b16a38071e086ca29c0/53.363889,-6.333333,{unix_time}\".format(unix_time= unix_time)\n",
    "    #getting JSON file from darksky\n",
    "    JSONContent = requests.get(url).json()\n",
    "    #flattening the data into to a df\n",
    "    hourly_data = json_normalize(data = JSONContent,\n",
    "                            record_path = ['hourly', 'data'],\n",
    "                            meta = ['latitude', 'longitude', 'offset'], \n",
    "                            errors='ignore')\n",
    "    #changing unix datetime to normal datetime.\n",
    "    hourly_data['time']= pd.to_datetime(hourly_data['time'],unit='s')\n",
    "    #summing the precip intenisty\n",
    "    total = hourly_data['precipIntensity'].sum()\n",
    "    \n",
    "    totals = total * 24\n",
    "    #creating a new df with the totals precipitation in mm.\n",
    "    data = {'Date': [i], 'Actual': totals, 'Location': 'Dublin'}\n",
    "    df = pd.DataFrame(data)\n",
    "    df.to_csv('observedValues.csv',index=False, mode='a', header= False)"
   ]
  },
  {
   "cell_type": "code",
   "execution_count": 4,
   "metadata": {},
   "outputs": [],
   "source": [
    "#Claremorris\n",
    "data = []\n",
    "for i in index:\n",
    "    unix_time = i.strftime(\"%s\")\n",
    "    url = \"https://api.darksky.net/forecast/683bc0b700f80b16a38071e086ca29c0/53.7167,-9.0000,{unix_time}\".format(unix_time= unix_time)\n",
    "    JSONContent = requests.get(url).json()\n",
    "    hourly_data = json_normalize(data = JSONContent,\n",
    "                            record_path = ['hourly', 'data'],\n",
    "                            meta = ['latitude', 'longitude', 'offset'], \n",
    "                            errors='ignore')\n",
    "    hourly_data['time']= pd.to_datetime(hourly_data['time'],unit='s')\n",
    "    total = hourly_data['precipIntensity'].sum()\n",
    "    totals = total * 24\n",
    "    data = {'Date': [i], 'Actual': totals, 'Location': 'Mayo'}\n",
    "    df = pd.DataFrame(data)\n",
    "    df.to_csv('observedValues.csv',index=False, mode='a', header= False)"
   ]
  },
  {
   "cell_type": "code",
   "execution_count": 5,
   "metadata": {},
   "outputs": [],
   "source": [
    "#Donegal\n",
    "data = []\n",
    "for i in index:\n",
    "    unix_time = i.strftime(\"%s\")\n",
    "    url = \"https://api.darksky.net/forecast/683bc0b700f80b16a38071e086ca29c0/54.4939,-8.2331,{unix_time}\".format(unix_time= unix_time)\n",
    "    JSONContent = requests.get(url).json()\n",
    "    hourly_data = json_normalize(data = JSONContent,\n",
    "                            record_path = ['hourly', 'data'],\n",
    "                            meta = ['latitude', 'longitude', 'offset'], \n",
    "                            errors='ignore')\n",
    "    hourly_data['time']= pd.to_datetime(hourly_data['time'],unit='s')\n",
    "    total = hourly_data['precipIntensity'].sum()\n",
    "    totals = total * 24\n",
    "    data = {'Date': [i], 'Actual': totals, 'Location': 'Donegal'}\n",
    "    df = pd.DataFrame(data)\n",
    "    df.to_csv('observedValues.csv',index=False, mode='a', header= False)"
   ]
  },
  {
   "cell_type": "code",
   "execution_count": 6,
   "metadata": {},
   "outputs": [],
   "source": [
    "#Wexford\n",
    "data = []\n",
    "for i in index:\n",
    "    unix_time = i.strftime(\"%s\")\n",
    "    url = \"https://api.darksky.net/forecast/683bc0b700f80b16a38071e086ca29c0/52.2917,-6.4972,{unix_time}\".format(unix_time= unix_time)\n",
    "    JSONContent = requests.get(url).json()\n",
    "    hourly_data = json_normalize(data = JSONContent,\n",
    "                            record_path = ['hourly', 'data'],\n",
    "                            meta = ['latitude', 'longitude', 'offset'], \n",
    "                            errors='ignore')\n",
    "    hourly_data['time']= pd.to_datetime(hourly_data['time'],unit='s')\n",
    "    total = hourly_data['precipIntensity'].sum()\n",
    "    totals = total * 24\n",
    "    data = {'Date': [i], 'Actual': totals, 'Location': 'Wexford'}\n",
    "    df = pd.DataFrame(data)\n",
    "    df.to_csv('observedValues.csv',index=False, mode='a', header= False)"
   ]
  },
  {
   "cell_type": "code",
   "execution_count": 7,
   "metadata": {},
   "outputs": [],
   "source": [
    "df = pd.read_csv(\"observedValues.csv\",  names=['Date', 'Amounts', 'Location'])"
   ]
  },
  {
   "cell_type": "code",
   "execution_count": 8,
   "metadata": {},
   "outputs": [
    {
     "data": {
      "text/html": [
       "<div>\n",
       "<style scoped>\n",
       "    .dataframe tbody tr th:only-of-type {\n",
       "        vertical-align: middle;\n",
       "    }\n",
       "\n",
       "    .dataframe tbody tr th {\n",
       "        vertical-align: top;\n",
       "    }\n",
       "\n",
       "    .dataframe thead th {\n",
       "        text-align: right;\n",
       "    }\n",
       "</style>\n",
       "<table border=\"1\" class=\"dataframe\">\n",
       "  <thead>\n",
       "    <tr style=\"text-align: right;\">\n",
       "      <th></th>\n",
       "      <th>Date</th>\n",
       "      <th>Amounts</th>\n",
       "      <th>Location</th>\n",
       "    </tr>\n",
       "  </thead>\n",
       "  <tbody>\n",
       "    <tr>\n",
       "      <td>0</td>\n",
       "      <td>2020-01-07</td>\n",
       "      <td>3.8832</td>\n",
       "      <td>Dublin</td>\n",
       "    </tr>\n",
       "    <tr>\n",
       "      <td>1</td>\n",
       "      <td>2020-01-08</td>\n",
       "      <td>2.1000</td>\n",
       "      <td>Dublin</td>\n",
       "    </tr>\n",
       "    <tr>\n",
       "      <td>2</td>\n",
       "      <td>2020-01-09</td>\n",
       "      <td>11.3328</td>\n",
       "      <td>Dublin</td>\n",
       "    </tr>\n",
       "    <tr>\n",
       "      <td>3</td>\n",
       "      <td>2020-01-10</td>\n",
       "      <td>0.5952</td>\n",
       "      <td>Dublin</td>\n",
       "    </tr>\n",
       "    <tr>\n",
       "      <td>4</td>\n",
       "      <td>2020-01-11</td>\n",
       "      <td>5.4480</td>\n",
       "      <td>Dublin</td>\n",
       "    </tr>\n",
       "  </tbody>\n",
       "</table>\n",
       "</div>"
      ],
      "text/plain": [
       "         Date  Amounts Location\n",
       "0  2020-01-07   3.8832   Dublin\n",
       "1  2020-01-08   2.1000   Dublin\n",
       "2  2020-01-09  11.3328   Dublin\n",
       "3  2020-01-10   0.5952   Dublin\n",
       "4  2020-01-11   5.4480   Dublin"
      ]
     },
     "execution_count": 8,
     "metadata": {},
     "output_type": "execute_result"
    }
   ],
   "source": [
    "df.head()"
   ]
  }
 ],
 "metadata": {
  "kernelspec": {
   "display_name": "Python 3",
   "language": "python",
   "name": "python3"
  },
  "language_info": {
   "codemirror_mode": {
    "name": "ipython",
    "version": 3
   },
   "file_extension": ".py",
   "mimetype": "text/x-python",
   "name": "python",
   "nbconvert_exporter": "python",
   "pygments_lexer": "ipython3",
   "version": "3.7.4"
  }
 },
 "nbformat": 4,
 "nbformat_minor": 2
}
