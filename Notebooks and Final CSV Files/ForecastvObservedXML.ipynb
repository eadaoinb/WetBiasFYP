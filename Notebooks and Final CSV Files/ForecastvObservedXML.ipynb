{
 "cells": [
  {
   "cell_type": "code",
   "execution_count": 1,
   "metadata": {},
   "outputs": [],
   "source": [
    "import pandas as pd\n",
    "import numpy as np"
   ]
  },
  {
   "cell_type": "code",
   "execution_count": 2,
   "metadata": {},
   "outputs": [],
   "source": [
    "df = pd.read_csv(\"forecastXMLNew.csv\")"
   ]
  },
  {
   "cell_type": "code",
   "execution_count": 3,
   "metadata": {},
   "outputs": [
    {
     "data": {
      "text/html": [
       "<div>\n",
       "<style scoped>\n",
       "    .dataframe tbody tr th:only-of-type {\n",
       "        vertical-align: middle;\n",
       "    }\n",
       "\n",
       "    .dataframe tbody tr th {\n",
       "        vertical-align: top;\n",
       "    }\n",
       "\n",
       "    .dataframe thead th {\n",
       "        text-align: right;\n",
       "    }\n",
       "</style>\n",
       "<table border=\"1\" class=\"dataframe\">\n",
       "  <thead>\n",
       "    <tr style=\"text-align: right;\">\n",
       "      <th></th>\n",
       "      <th>Provider</th>\n",
       "      <th>Location</th>\n",
       "      <th>One_Day_Ahead</th>\n",
       "      <th>DateOne</th>\n",
       "      <th>Three_Days_Ahead</th>\n",
       "      <th>DateThree</th>\n",
       "      <th>Five_Days_Ahead</th>\n",
       "      <th>DateFive</th>\n",
       "      <th>Date_Scraped</th>\n",
       "    </tr>\n",
       "  </thead>\n",
       "  <tbody>\n",
       "    <tr>\n",
       "      <td>0</td>\n",
       "      <td>MetEireann</td>\n",
       "      <td>Donegal</td>\n",
       "      <td>0.0</td>\n",
       "      <td>2020-03-28</td>\n",
       "      <td>0.0</td>\n",
       "      <td>2020-03-30</td>\n",
       "      <td>3.5</td>\n",
       "      <td>2020-04-01</td>\n",
       "      <td>2020-03-27</td>\n",
       "    </tr>\n",
       "    <tr>\n",
       "      <td>1</td>\n",
       "      <td>MetEireann</td>\n",
       "      <td>Donegal</td>\n",
       "      <td>5.6</td>\n",
       "      <td>2020-03-07</td>\n",
       "      <td>17.3</td>\n",
       "      <td>2020-03-09</td>\n",
       "      <td>5.4</td>\n",
       "      <td>2020-03-11</td>\n",
       "      <td>2020-03-06</td>\n",
       "    </tr>\n",
       "    <tr>\n",
       "      <td>2</td>\n",
       "      <td>MetEireann</td>\n",
       "      <td>Donegal</td>\n",
       "      <td>0.0</td>\n",
       "      <td>2020-03-13</td>\n",
       "      <td>4.1</td>\n",
       "      <td>2020-03-15</td>\n",
       "      <td>18.8</td>\n",
       "      <td>2020-03-17</td>\n",
       "      <td>2020-03-12</td>\n",
       "    </tr>\n",
       "    <tr>\n",
       "      <td>3</td>\n",
       "      <td>MetEireann</td>\n",
       "      <td>Donegal</td>\n",
       "      <td>6.9</td>\n",
       "      <td>2020-02-03</td>\n",
       "      <td>0.0</td>\n",
       "      <td>2020-02-05</td>\n",
       "      <td>0.0</td>\n",
       "      <td>2020-02-07</td>\n",
       "      <td>2020-02-02</td>\n",
       "    </tr>\n",
       "    <tr>\n",
       "      <td>4</td>\n",
       "      <td>MetEireann</td>\n",
       "      <td>Donegal</td>\n",
       "      <td>7.5</td>\n",
       "      <td>2020-02-17</td>\n",
       "      <td>7.7</td>\n",
       "      <td>2020-02-19</td>\n",
       "      <td>19.7</td>\n",
       "      <td>2020-02-21</td>\n",
       "      <td>2020-02-16</td>\n",
       "    </tr>\n",
       "  </tbody>\n",
       "</table>\n",
       "</div>"
      ],
      "text/plain": [
       "     Provider Location  One_Day_Ahead     DateOne  Three_Days_Ahead  \\\n",
       "0  MetEireann  Donegal            0.0  2020-03-28               0.0   \n",
       "1  MetEireann  Donegal            5.6  2020-03-07              17.3   \n",
       "2  MetEireann  Donegal            0.0  2020-03-13               4.1   \n",
       "3  MetEireann  Donegal            6.9  2020-02-03               0.0   \n",
       "4  MetEireann  Donegal            7.5  2020-02-17               7.7   \n",
       "\n",
       "    DateThree  Five_Days_Ahead    DateFive Date_Scraped  \n",
       "0  2020-03-30              3.5  2020-04-01   2020-03-27  \n",
       "1  2020-03-09              5.4  2020-03-11   2020-03-06  \n",
       "2  2020-03-15             18.8  2020-03-17   2020-03-12  \n",
       "3  2020-02-05              0.0  2020-02-07   2020-02-02  \n",
       "4  2020-02-19             19.7  2020-02-21   2020-02-16  "
      ]
     },
     "execution_count": 3,
     "metadata": {},
     "output_type": "execute_result"
    }
   ],
   "source": [
    "df.head()"
   ]
  },
  {
   "cell_type": "code",
   "execution_count": 4,
   "metadata": {},
   "outputs": [],
   "source": [
    "actuals = pd.read_csv(\"./observedXML.csv\")"
   ]
  },
  {
   "cell_type": "code",
   "execution_count": 5,
   "metadata": {},
   "outputs": [
    {
     "data": {
      "text/html": [
       "<div>\n",
       "<style scoped>\n",
       "    .dataframe tbody tr th:only-of-type {\n",
       "        vertical-align: middle;\n",
       "    }\n",
       "\n",
       "    .dataframe tbody tr th {\n",
       "        vertical-align: top;\n",
       "    }\n",
       "\n",
       "    .dataframe thead th {\n",
       "        text-align: right;\n",
       "    }\n",
       "</style>\n",
       "<table border=\"1\" class=\"dataframe\">\n",
       "  <thead>\n",
       "    <tr style=\"text-align: right;\">\n",
       "      <th></th>\n",
       "      <th>date</th>\n",
       "      <th>rain</th>\n",
       "      <th>location</th>\n",
       "    </tr>\n",
       "  </thead>\n",
       "  <tbody>\n",
       "    <tr>\n",
       "      <td>0</td>\n",
       "      <td>2020-01-07</td>\n",
       "      <td>2.4</td>\n",
       "      <td>Donegal</td>\n",
       "    </tr>\n",
       "    <tr>\n",
       "      <td>1</td>\n",
       "      <td>2020-01-08</td>\n",
       "      <td>2.5</td>\n",
       "      <td>Donegal</td>\n",
       "    </tr>\n",
       "    <tr>\n",
       "      <td>2</td>\n",
       "      <td>2020-01-09</td>\n",
       "      <td>0.8</td>\n",
       "      <td>Donegal</td>\n",
       "    </tr>\n",
       "    <tr>\n",
       "      <td>3</td>\n",
       "      <td>2020-01-10</td>\n",
       "      <td>2.6</td>\n",
       "      <td>Donegal</td>\n",
       "    </tr>\n",
       "    <tr>\n",
       "      <td>4</td>\n",
       "      <td>2020-01-11</td>\n",
       "      <td>17.5</td>\n",
       "      <td>Donegal</td>\n",
       "    </tr>\n",
       "  </tbody>\n",
       "</table>\n",
       "</div>"
      ],
      "text/plain": [
       "         date  rain location\n",
       "0  2020-01-07   2.4  Donegal\n",
       "1  2020-01-08   2.5  Donegal\n",
       "2  2020-01-09   0.8  Donegal\n",
       "3  2020-01-10   2.6  Donegal\n",
       "4  2020-01-11  17.5  Donegal"
      ]
     },
     "execution_count": 5,
     "metadata": {},
     "output_type": "execute_result"
    }
   ],
   "source": [
    "actuals.head()"
   ]
  },
  {
   "cell_type": "code",
   "execution_count": 6,
   "metadata": {},
   "outputs": [],
   "source": [
    "actuals = actuals.rename(columns={'date':'Date',\n",
    "                          'rain':'Amount',\n",
    "                          'location':'Location'})"
   ]
  },
  {
   "cell_type": "code",
   "execution_count": 7,
   "metadata": {},
   "outputs": [],
   "source": [
    "OneDayAhead = df[['Provider','Location', 'One_Day_Ahead', 'DateOne']].copy()"
   ]
  },
  {
   "cell_type": "code",
   "execution_count": 8,
   "metadata": {},
   "outputs": [],
   "source": [
    "OneDayAhead['Date'] = pd.to_datetime(OneDayAhead['DateOne'])"
   ]
  },
  {
   "cell_type": "code",
   "execution_count": 9,
   "metadata": {},
   "outputs": [],
   "source": [
    "OneDayAhead = OneDayAhead.sort_values(by='DateOne')"
   ]
  },
  {
   "cell_type": "code",
   "execution_count": 10,
   "metadata": {},
   "outputs": [],
   "source": [
    "actuals['Date']= pd.to_datetime(actuals['Date'])"
   ]
  },
  {
   "cell_type": "code",
   "execution_count": 11,
   "metadata": {},
   "outputs": [],
   "source": [
    "start_date = '2020-01-07'\n",
    "end_date = '2020-03-31'\n",
    "mask = (actuals['Date'] >= start_date) & (actuals['Date'] <= end_date)"
   ]
  },
  {
   "cell_type": "code",
   "execution_count": 12,
   "metadata": {},
   "outputs": [],
   "source": [
    "actual = actuals.loc[mask]"
   ]
  },
  {
   "cell_type": "code",
   "execution_count": 13,
   "metadata": {},
   "outputs": [],
   "source": [
    "result = pd.merge(OneDayAhead, actual, on=['Date', 'Location'])"
   ]
  },
  {
   "cell_type": "code",
   "execution_count": 14,
   "metadata": {},
   "outputs": [
    {
     "data": {
      "text/html": [
       "<div>\n",
       "<style scoped>\n",
       "    .dataframe tbody tr th:only-of-type {\n",
       "        vertical-align: middle;\n",
       "    }\n",
       "\n",
       "    .dataframe tbody tr th {\n",
       "        vertical-align: top;\n",
       "    }\n",
       "\n",
       "    .dataframe thead th {\n",
       "        text-align: right;\n",
       "    }\n",
       "</style>\n",
       "<table border=\"1\" class=\"dataframe\">\n",
       "  <thead>\n",
       "    <tr style=\"text-align: right;\">\n",
       "      <th></th>\n",
       "      <th>Provider</th>\n",
       "      <th>Location</th>\n",
       "      <th>One_Day_Ahead</th>\n",
       "      <th>DateOne</th>\n",
       "      <th>Date</th>\n",
       "      <th>Amount</th>\n",
       "    </tr>\n",
       "  </thead>\n",
       "  <tbody>\n",
       "    <tr>\n",
       "      <td>0</td>\n",
       "      <td>MetEireann</td>\n",
       "      <td>Dublin</td>\n",
       "      <td>0.0</td>\n",
       "      <td>2020-01-07</td>\n",
       "      <td>2020-01-07</td>\n",
       "      <td>0.3</td>\n",
       "    </tr>\n",
       "    <tr>\n",
       "      <td>1</td>\n",
       "      <td>MetEireann</td>\n",
       "      <td>Wexford</td>\n",
       "      <td>0.0</td>\n",
       "      <td>2020-01-07</td>\n",
       "      <td>2020-01-07</td>\n",
       "      <td>1.3</td>\n",
       "    </tr>\n",
       "    <tr>\n",
       "      <td>2</td>\n",
       "      <td>MetEireann</td>\n",
       "      <td>Wexford</td>\n",
       "      <td>0.0</td>\n",
       "      <td>2020-01-10</td>\n",
       "      <td>2020-01-10</td>\n",
       "      <td>0.2</td>\n",
       "    </tr>\n",
       "    <tr>\n",
       "      <td>3</td>\n",
       "      <td>MetEireann</td>\n",
       "      <td>Dublin</td>\n",
       "      <td>0.1</td>\n",
       "      <td>2020-01-10</td>\n",
       "      <td>2020-01-10</td>\n",
       "      <td>0.2</td>\n",
       "    </tr>\n",
       "    <tr>\n",
       "      <td>4</td>\n",
       "      <td>MetEireann</td>\n",
       "      <td>Dublin</td>\n",
       "      <td>10.5</td>\n",
       "      <td>2020-01-14</td>\n",
       "      <td>2020-01-14</td>\n",
       "      <td>3.5</td>\n",
       "    </tr>\n",
       "    <tr>\n",
       "      <td>...</td>\n",
       "      <td>...</td>\n",
       "      <td>...</td>\n",
       "      <td>...</td>\n",
       "      <td>...</td>\n",
       "      <td>...</td>\n",
       "      <td>...</td>\n",
       "    </tr>\n",
       "    <tr>\n",
       "      <td>236</td>\n",
       "      <td>MetEireann</td>\n",
       "      <td>Wexford</td>\n",
       "      <td>0.0</td>\n",
       "      <td>2020-03-30</td>\n",
       "      <td>2020-03-30</td>\n",
       "      <td>0.0</td>\n",
       "    </tr>\n",
       "    <tr>\n",
       "      <td>237</td>\n",
       "      <td>MetEireann</td>\n",
       "      <td>Wexford</td>\n",
       "      <td>0.0</td>\n",
       "      <td>2020-03-31</td>\n",
       "      <td>2020-03-31</td>\n",
       "      <td>0.0</td>\n",
       "    </tr>\n",
       "    <tr>\n",
       "      <td>238</td>\n",
       "      <td>MetEireann</td>\n",
       "      <td>Donegal</td>\n",
       "      <td>0.1</td>\n",
       "      <td>2020-03-31</td>\n",
       "      <td>2020-03-31</td>\n",
       "      <td>0.2</td>\n",
       "    </tr>\n",
       "    <tr>\n",
       "      <td>239</td>\n",
       "      <td>MetEireann</td>\n",
       "      <td>Dublin</td>\n",
       "      <td>0.3</td>\n",
       "      <td>2020-03-31</td>\n",
       "      <td>2020-03-31</td>\n",
       "      <td>0.0</td>\n",
       "    </tr>\n",
       "    <tr>\n",
       "      <td>240</td>\n",
       "      <td>MetEireann</td>\n",
       "      <td>Mayo</td>\n",
       "      <td>0.0</td>\n",
       "      <td>2020-03-31</td>\n",
       "      <td>2020-03-31</td>\n",
       "      <td>0.0</td>\n",
       "    </tr>\n",
       "  </tbody>\n",
       "</table>\n",
       "<p>241 rows × 6 columns</p>\n",
       "</div>"
      ],
      "text/plain": [
       "       Provider Location  One_Day_Ahead     DateOne       Date  Amount\n",
       "0    MetEireann   Dublin            0.0  2020-01-07 2020-01-07     0.3\n",
       "1    MetEireann  Wexford            0.0  2020-01-07 2020-01-07     1.3\n",
       "2    MetEireann  Wexford            0.0  2020-01-10 2020-01-10     0.2\n",
       "3    MetEireann   Dublin            0.1  2020-01-10 2020-01-10     0.2\n",
       "4    MetEireann   Dublin           10.5  2020-01-14 2020-01-14     3.5\n",
       "..          ...      ...            ...         ...        ...     ...\n",
       "236  MetEireann  Wexford            0.0  2020-03-30 2020-03-30     0.0\n",
       "237  MetEireann  Wexford            0.0  2020-03-31 2020-03-31     0.0\n",
       "238  MetEireann  Donegal            0.1  2020-03-31 2020-03-31     0.2\n",
       "239  MetEireann   Dublin            0.3  2020-03-31 2020-03-31     0.0\n",
       "240  MetEireann     Mayo            0.0  2020-03-31 2020-03-31     0.0\n",
       "\n",
       "[241 rows x 6 columns]"
      ]
     },
     "metadata": {},
     "output_type": "display_data"
    }
   ],
   "source": [
    "display(result)"
   ]
  },
  {
   "cell_type": "code",
   "execution_count": 15,
   "metadata": {},
   "outputs": [],
   "source": [
    "result[\"Difference\"] = result['One_Day_Ahead'] - result['Amount']"
   ]
  },
  {
   "cell_type": "code",
   "execution_count": 16,
   "metadata": {},
   "outputs": [],
   "source": [
    "import matplotlib.pyplot as plt  "
   ]
  },
  {
   "cell_type": "code",
   "execution_count": 17,
   "metadata": {},
   "outputs": [
    {
     "data": {
      "image/png": "[encoded data removed]",
      "text/plain": [
       "<Figure size 576x432 with 1 Axes>"
      ]
     },
     "metadata": {
      "needs_background": "light"
     },
     "output_type": "display_data"
    }
   ],
   "source": [
    "boxplotOne = result.boxplot(by = 'Location', column = ['Difference'], figsize=(8, 6), )"
   ]
  },
  {
   "cell_type": "code",
   "execution_count": 18,
   "metadata": {},
   "outputs": [
    {
     "data": {
      "text/plain": [
       "1.9319502074688797"
      ]
     },
     "execution_count": 18,
     "metadata": {},
     "output_type": "execute_result"
    }
   ],
   "source": [
    "from sklearn.metrics import mean_absolute_error\n",
    "OneDayMAE = mean_absolute_error(result[\"Amount\"], result[\"One_Day_Ahead\"])\n",
    "OneDayMAE"
   ]
  },
  {
   "cell_type": "code",
   "execution_count": 19,
   "metadata": {},
   "outputs": [
    {
     "data": {
      "text/plain": [
       "3.024190162850021"
      ]
     },
     "execution_count": 19,
     "metadata": {},
     "output_type": "execute_result"
    }
   ],
   "source": [
    "from sklearn.metrics import mean_squared_error\n",
    "from math import sqrt\n",
    "\n",
    "rms = sqrt(mean_squared_error(result[\"Amount\"], result[\"One_Day_Ahead\"]))\n",
    "rms # so this means on average there is a +- of 3.8 for millimiters "
   ]
  },
  {
   "cell_type": "code",
   "execution_count": null,
   "metadata": {},
   "outputs": [],
   "source": []
  },
  {
   "cell_type": "code",
   "execution_count": 20,
   "metadata": {},
   "outputs": [
    {
     "data": {
      "image/png": "[encoded data removed]",
      "text/plain": [
       "<Figure size 576x432 with 1 Axes>"
      ]
     },
     "metadata": {
      "needs_background": "light"
     },
     "output_type": "display_data"
    }
   ],
   "source": [
    "#ThreeDayAhead \n",
    "ThreeDayAhead = df[['Provider','Location', 'Three_Days_Ahead', 'DateThree']].copy()\n",
    "ThreeDayAhead['Date'] = pd.to_datetime(ThreeDayAhead['DateThree'])\n",
    "resultThree = pd.merge(ThreeDayAhead, actual, on=['Date', 'Location'])\n",
    "resultThree[\"Difference\"] = resultThree['Three_Days_Ahead'] - resultThree['Amount']\n",
    "boxplotThree = resultThree.boxplot(by = 'Location', column = ['Difference'], figsize=(8, 6))\n",
    "\n"
   ]
  },
  {
   "cell_type": "code",
   "execution_count": 21,
   "metadata": {},
   "outputs": [
    {
     "data": {
      "text/plain": [
       "5.065053202928658"
      ]
     },
     "execution_count": 21,
     "metadata": {},
     "output_type": "execute_result"
    }
   ],
   "source": [
    "rmsThree = sqrt(mean_squared_error(resultThree[\"Amount\"], resultThree[\"Three_Days_Ahead\"]))\n",
    "rmsThree"
   ]
  },
  {
   "cell_type": "code",
   "execution_count": 22,
   "metadata": {},
   "outputs": [
    {
     "data": {
      "image/png": "[encoded data removed]",
      "text/plain": [
       "<Figure size 576x432 with 1 Axes>"
      ]
     },
     "metadata": {
      "needs_background": "light"
     },
     "output_type": "display_data"
    }
   ],
   "source": [
    "#FiveDayAhead \n",
    "FiveDayAhead = df[['Provider','Location', 'Five_Days_Ahead', 'DateFive']].copy()\n",
    "FiveDayAhead['Date'] = pd.to_datetime(FiveDayAhead['DateFive'])\n",
    "resultFive = pd.merge(FiveDayAhead, actual, on=['Date', 'Location'])\n",
    "resultFive[\"Difference\"] = resultFive['Five_Days_Ahead'] - resultFive['Amount']\n",
    "boxplotFive = resultFive.boxplot(by = 'Location', column = ['Difference'], figsize=(8, 6))"
   ]
  },
  {
   "cell_type": "code",
   "execution_count": 23,
   "metadata": {},
   "outputs": [
    {
     "data": {
      "text/plain": [
       "6.11665122613855"
      ]
     },
     "execution_count": 23,
     "metadata": {},
     "output_type": "execute_result"
    }
   ],
   "source": [
    "rmsFive = sqrt(mean_squared_error(resultFive[\"Amount\"], resultFive[\"Five_Days_Ahead\"]))\n",
    "rmsFive"
   ]
  },
  {
   "cell_type": "code",
   "execution_count": 24,
   "metadata": {},
   "outputs": [
    {
     "data": {
      "text/plain": [
       "3.024190162850021"
      ]
     },
     "execution_count": 24,
     "metadata": {},
     "output_type": "execute_result"
    }
   ],
   "source": [
    "rms"
   ]
  },
  {
   "cell_type": "code",
   "execution_count": 25,
   "metadata": {},
   "outputs": [
    {
     "data": {
      "text/plain": [
       "5.065053202928658"
      ]
     },
     "execution_count": 25,
     "metadata": {},
     "output_type": "execute_result"
    }
   ],
   "source": [
    "rmsThree"
   ]
  },
  {
   "cell_type": "code",
   "execution_count": 26,
   "metadata": {},
   "outputs": [
    {
     "data": {
      "text/plain": [
       "6.11665122613855"
      ]
     },
     "execution_count": 26,
     "metadata": {},
     "output_type": "execute_result"
    }
   ],
   "source": [
    "rmsFive"
   ]
  },
  {
   "cell_type": "code",
   "execution_count": 28,
   "metadata": {},
   "outputs": [],
   "source": [
    "result['Threshold'] = np.where(result['Amount'] > result[\"Amount\"].mean(), 'overThreshold', 'underThreshold')"
   ]
  },
  {
   "cell_type": "code",
   "execution_count": 29,
   "metadata": {},
   "outputs": [
    {
     "data": {
      "image/png": "[encoded data removed]",
      "text/plain": [
       "<Figure size 1440x720 with 1 Axes>"
      ]
     },
     "metadata": {
      "needs_background": "light"
     },
     "output_type": "display_data"
    }
   ],
   "source": [
    "boxplotCounties = result.boxplot(by = ['Threshold', 'Location'], column = ['Difference'], figsize=(20, 10))"
   ]
  },
  {
   "cell_type": "code",
   "execution_count": 34,
   "metadata": {},
   "outputs": [
    {
     "data": {
      "image/png": "[encoded data removed]",
      "text/plain": [
       "<Figure size 576x432 with 1 Axes>"
      ]
     },
     "metadata": {
      "needs_background": "light"
     },
     "output_type": "display_data"
    }
   ],
   "source": [
    "OverOnly = result.loc[result[\"Threshold\"]== 'overThreshold'].copy()\n",
    "boxplotOver = OverOnly.boxplot(by = 'Location', column = ['Difference'], figsize=(8, 6))"
   ]
  },
  {
   "cell_type": "code",
   "execution_count": 31,
   "metadata": {},
   "outputs": [
    {
     "data": {
      "image/png": "[encoded data removed]",
      "text/plain": [
       "<Figure size 576x432 with 1 Axes>"
      ]
     },
     "metadata": {
      "needs_background": "light"
     },
     "output_type": "display_data"
    }
   ],
   "source": [
    "DonegalOnly = result.loc[result[\"Location\"]== 'Donegal'].copy()\n",
    "DonegalOnly['Threshold'] = np.where(DonegalOnly['Amount'] > DonegalOnly[\"Amount\"].mean(), 'overThreshold', 'underThreshold')\n",
    "boxplotBig = DonegalOnly.boxplot(by = 'Threshold', column = ['Difference'], figsize=(8, 6))"
   ]
  },
  {
   "cell_type": "code",
   "execution_count": null,
   "metadata": {},
   "outputs": [],
   "source": []
  }
 ],
 "metadata": {
  "kernelspec": {
   "display_name": "Python 3",
   "language": "python",
   "name": "python3"
  },
  "language_info": {
   "codemirror_mode": {
    "name": "ipython",
    "version": 3
   },
   "file_extension": ".py",
   "mimetype": "text/x-python",
   "name": "python",
   "nbconvert_exporter": "python",
   "pygments_lexer": "ipython3",
   "version": "3.7.4"
  }
 },
 "nbformat": 4,
 "nbformat_minor": 2
}
