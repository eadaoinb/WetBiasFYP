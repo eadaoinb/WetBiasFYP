{
 "cells": [
  {
   "cell_type": "code",
   "execution_count": 1,
   "metadata": {},
   "outputs": [],
   "source": [
    "import pandas as pd\n",
    "import numpy as np\n",
    "import glob\n",
    "\n",
    "path = '/Users/eadaoinburgess/Dropbox/Final Year Project/MetObserved'\n",
    "\n",
    "\n",
    "for file in glob.glob(path + \"/*Finner\"):\n",
    "    df = pd.read_csv(file)\n",
    "    "
   ]
  },
  {
   "cell_type": "code",
   "execution_count": 2,
   "metadata": {},
   "outputs": [],
   "source": [
    "#defining dates\n",
    "start_date = '2020-01-07'\n",
    "end_date = '2020-03-31'"
   ]
  },
  {
   "cell_type": "code",
   "execution_count": 3,
   "metadata": {},
   "outputs": [],
   "source": [
    "#path to files \n",
    "path = r'/Users/eadaoinburgess/Dropbox/Final Year Project/MetObserved' \n",
    "all_files = glob.glob(path + \"/*Finner.csv\")\n",
    "\n",
    "#iterate through all files in folder\n",
    "for filename in all_files:\n",
    "    df = pd.read_csv(filename, header=21\n",
    "    #creating dataframe with columns date and rains\n",
    "    df =  df[['date','rain']]\n",
    "    #setting location to donegal\n",
    "    df['location'] = \"Donegal\" \n",
    "    #converting date from object to datetime                 \n",
    "    df['date']= pd.to_datetime(df['date'])\n",
    "    #getting the dates between the ones stated                 \n",
    "    mask = (df['date'] >= start_date) & (df['date'] <= end_date)            \n",
    "    df = df.loc[mask]\n",
    "    \n",
    "    import os.path as paths\n",
    "    #if file exists \n",
    "    if paths.exists(\"observedXML.csv\"):\n",
    "        #read file\n",
    "        forecastData = pd.read_csv(\"observedXML.csv\") \n",
    "        #append file to the end             \n",
    "        forecastData = forecastData.append(df)\n",
    "        #output file             \n",
    "        forecastData.to_csv(\"observedXML.csv\",index=False)\n",
    "    else:\n",
    "        #create new file             \n",
    "        df.to_csv(\"observedXML.csv\",index=False)\n",
    "    "
   ]
  },
  {
   "cell_type": "code",
   "execution_count": 4,
   "metadata": {},
   "outputs": [],
   "source": [
    "#claremorris\n",
    "path = r'/Users/eadaoinburgess/Dropbox/Final Year Project/MetObserved' # use your path\n",
    "all_files = glob.glob(path + \"/*Claremorris.csv\")\n",
    "\n",
    "for filename in all_files:\n",
    "    df = pd.read_csv(filename, header=21)\n",
    "    df =  df[['date','rain']]\n",
    "    df['location'] = \"Mayo\" \n",
    "    df['date']= pd.to_datetime(df['date'])\n",
    "    mask = (df['date'] >= start_date) & (df['date'] <= end_date)\n",
    "    df = df.loc[mask]\n",
    "    \n",
    "    import os.path as paths\n",
    "    if paths.exists(\"observedXML.csv\"):\n",
    "        forecastData = pd.read_csv(\"observedXML.csv\") \n",
    "        forecastData = forecastData.append(df)\n",
    "        forecastData.to_csv(\"observedXML.csv\",index=False)\n",
    "    else:\n",
    "        df.to_csv(\"observedXML.csv\",index=False)\n",
    "    "
   ]
  },
  {
   "cell_type": "code",
   "execution_count": 5,
   "metadata": {},
   "outputs": [],
   "source": [
    "#Johnstown\n",
    "path = r'/Users/eadaoinburgess/Dropbox/Final Year Project/MetObserved' # use your path\n",
    "all_files = glob.glob(path + \"/*Johnstown.csv\")\n",
    "\n",
    "for filename in all_files:\n",
    "    df = pd.read_csv(filename, header=21)\n",
    "    df =  df[['date','rain']]\n",
    "    df['location'] = \"Wexford\" \n",
    "    df['date']= pd.to_datetime(df['date'])\n",
    "    mask = (df['date'] >= start_date) & (df['date'] <= end_date)\n",
    "    df = df.loc[mask]\n",
    "    \n",
    "    import os.path as paths\n",
    "    if paths.exists(\"observedXML.csv\"):\n",
    "        forecastData = pd.read_csv(\"observedXML.csv\") \n",
    "        forecastData = forecastData.append(df)\n",
    "        forecastData.to_csv(\"observedXML.csv\",index=False)\n",
    "    else:\n",
    "        df.to_csv(\"observedXML.csv\",index=False)\n",
    "    "
   ]
  },
  {
   "cell_type": "code",
   "execution_count": 1,
   "metadata": {},
   "outputs": [
    {
     "ename": "NameError",
     "evalue": "name 'glob' is not defined",
     "output_type": "error",
     "traceback": [
      "\u001b[0;31m---------------------------------------------------------------------------\u001b[0m",
      "\u001b[0;31mNameError\u001b[0m                                 Traceback (most recent call last)",
      "\u001b[0;32m<ipython-input-1-f9fffec5b06b>\u001b[0m in \u001b[0;36m<module>\u001b[0;34m\u001b[0m\n\u001b[1;32m      1\u001b[0m \u001b[0;31m#\u001b[0m\u001b[0;34m\u001b[0m\u001b[0;34m\u001b[0m\u001b[0;34m\u001b[0m\u001b[0m\n\u001b[1;32m      2\u001b[0m \u001b[0mpath\u001b[0m \u001b[0;34m=\u001b[0m \u001b[0;34mr'/Users/eadaoinburgess/Dropbox/Final Year Project/MetObserved'\u001b[0m \u001b[0;31m# use your path\u001b[0m\u001b[0;34m\u001b[0m\u001b[0;34m\u001b[0m\u001b[0m\n\u001b[0;32m----> 3\u001b[0;31m \u001b[0mall_files\u001b[0m \u001b[0;34m=\u001b[0m \u001b[0mglob\u001b[0m\u001b[0;34m.\u001b[0m\u001b[0mglob\u001b[0m\u001b[0;34m(\u001b[0m\u001b[0mpath\u001b[0m \u001b[0;34m+\u001b[0m \u001b[0;34m\"/*Pheonix.csv\"\u001b[0m\u001b[0;34m)\u001b[0m\u001b[0;34m\u001b[0m\u001b[0;34m\u001b[0m\u001b[0m\n\u001b[0m\u001b[1;32m      4\u001b[0m \u001b[0;34m\u001b[0m\u001b[0m\n\u001b[1;32m      5\u001b[0m \u001b[0;32mfor\u001b[0m \u001b[0mfilename\u001b[0m \u001b[0;32min\u001b[0m \u001b[0mall_files\u001b[0m\u001b[0;34m:\u001b[0m\u001b[0;34m\u001b[0m\u001b[0;34m\u001b[0m\u001b[0m\n",
      "\u001b[0;31mNameError\u001b[0m: name 'glob' is not defined"
     ]
    }
   ],
   "source": [
    "#pheonix\n",
    "path = r'/Users/eadaoinburgess/Dropbox/Final Year Project/MetObserved' # use your path\n",
    "all_files = glob.glob(path + \"/*Pheonix.csv\")\n",
    "\n",
    "for filename in all_files:\n",
    "    df = pd.read_csv(filename, header=11)\n",
    "    df =  df[['date','rain']]\n",
    "    df['location'] = \"Dublin\" \n",
    "    df['date']= pd.to_datetime(df['date'])\n",
    "    mask = (df['date'] >= start_date) & (df['date'] <= end_date)\n",
    "    df = df.loc[mask]\n",
    "    \n",
    "    import os.path as paths\n",
    "    if paths.exists(\"observedXML.csv\"):\n",
    "        forecastData = pd.read_csv(\"observedXML.csv\") \n",
    "        forecastData = forecastData.append(df)\n",
    "        forecastData.to_csv(\"observedXML.csv\",index=False)\n",
    "    else:\n",
    "        df.to_csv(\"observedXML.csv\",index=False)\n",
    "     "
   ]
  }
 ],
 "metadata": {
  "kernelspec": {
   "display_name": "Python 3",
   "language": "python",
   "name": "python3"
  },
  "language_info": {
   "codemirror_mode": {
    "name": "ipython",
    "version": 3
   },
   "file_extension": ".py",
   "mimetype": "text/x-python",
   "name": "python",
   "nbconvert_exporter": "python",
   "pygments_lexer": "ipython3",
   "version": "3.7.4"
  }
 },
 "nbformat": 4,
 "nbformat_minor": 2
}
