{
 "cells": [
  {
   "cell_type": "markdown",
   "metadata": {},
   "source": [
    "DNotebook compares the observed and predicted precipitation amounts for provider DarkSky"
   ]
  },
  {
   "cell_type": "code",
   "execution_count": 1,
   "metadata": {},
   "outputs": [],
   "source": [
    "import pandas as pd\n",
    "import numpy as np\n",
    "from sklearn.metrics import mean_squared_error"
   ]
  },
  {
   "cell_type": "code",
   "execution_count": 2,
   "metadata": {},
   "outputs": [],
   "source": [
    "#reading in predicted amounts from DarkSky\n",
    "df = pd.read_csv(\"forecastNew.csv\")"
   ]
  },
  {
   "cell_type": "code",
   "execution_count": 3,
   "metadata": {
    "scrolled": true
   },
   "outputs": [
    {
     "data": {
      "text/html": [
       "<div>\n",
       "<style scoped>\n",
       "    .dataframe tbody tr th:only-of-type {\n",
       "        vertical-align: middle;\n",
       "    }\n",
       "\n",
       "    .dataframe tbody tr th {\n",
       "        vertical-align: top;\n",
       "    }\n",
       "\n",
       "    .dataframe thead th {\n",
       "        text-align: right;\n",
       "    }\n",
       "</style>\n",
       "<table border=\"1\" class=\"dataframe\">\n",
       "  <thead>\n",
       "    <tr style=\"text-align: right;\">\n",
       "      <th></th>\n",
       "      <th>Provider</th>\n",
       "      <th>Location</th>\n",
       "      <th>One_Day_Ahead</th>\n",
       "      <th>DateOne</th>\n",
       "      <th>Three_Days_Ahead</th>\n",
       "      <th>DateThree</th>\n",
       "      <th>Five_Days_Ahead</th>\n",
       "      <th>DateFive</th>\n",
       "      <th>Date_Scraped</th>\n",
       "    </tr>\n",
       "  </thead>\n",
       "  <tbody>\n",
       "    <tr>\n",
       "      <td>237</td>\n",
       "      <td>DarkSky</td>\n",
       "      <td>Wexford</td>\n",
       "      <td>0.1388</td>\n",
       "      <td>2020-03-30</td>\n",
       "      <td>0.2444</td>\n",
       "      <td>2020-04-01</td>\n",
       "      <td>1.0814</td>\n",
       "      <td>2020-04-03</td>\n",
       "      <td>2020-03-29</td>\n",
       "    </tr>\n",
       "    <tr>\n",
       "      <td>238</td>\n",
       "      <td>DarkSky</td>\n",
       "      <td>Wexford</td>\n",
       "      <td>0.1331</td>\n",
       "      <td>2020-04-03</td>\n",
       "      <td>2.1161</td>\n",
       "      <td>2020-04-05</td>\n",
       "      <td>0.0954</td>\n",
       "      <td>2020-04-07</td>\n",
       "      <td>2020-04-02</td>\n",
       "    </tr>\n",
       "    <tr>\n",
       "      <td>239</td>\n",
       "      <td>DarkSky</td>\n",
       "      <td>Wexford</td>\n",
       "      <td>0.3598</td>\n",
       "      <td>2020-03-03</td>\n",
       "      <td>2.6522</td>\n",
       "      <td>2020-03-05</td>\n",
       "      <td>4.0729</td>\n",
       "      <td>2020-03-07</td>\n",
       "      <td>2020-03-02</td>\n",
       "    </tr>\n",
       "    <tr>\n",
       "      <td>240</td>\n",
       "      <td>DarkSky</td>\n",
       "      <td>Wexford</td>\n",
       "      <td>2.1494</td>\n",
       "      <td>2020-02-22</td>\n",
       "      <td>3.5048</td>\n",
       "      <td>2020-02-24</td>\n",
       "      <td>0.3246</td>\n",
       "      <td>2020-02-26</td>\n",
       "      <td>2020-02-21</td>\n",
       "    </tr>\n",
       "    <tr>\n",
       "      <td>241</td>\n",
       "      <td>DarkSky</td>\n",
       "      <td>Wexford</td>\n",
       "      <td>0.9896</td>\n",
       "      <td>2020-02-17</td>\n",
       "      <td>2.2045</td>\n",
       "      <td>2020-02-19</td>\n",
       "      <td>0.1221</td>\n",
       "      <td>2020-02-21</td>\n",
       "      <td>2020-02-16</td>\n",
       "    </tr>\n",
       "  </tbody>\n",
       "</table>\n",
       "</div>"
      ],
      "text/plain": [
       "    Provider Location  One_Day_Ahead     DateOne  Three_Days_Ahead  \\\n",
       "237  DarkSky  Wexford         0.1388  2020-03-30            0.2444   \n",
       "238  DarkSky  Wexford         0.1331  2020-04-03            2.1161   \n",
       "239  DarkSky  Wexford         0.3598  2020-03-03            2.6522   \n",
       "240  DarkSky  Wexford         2.1494  2020-02-22            3.5048   \n",
       "241  DarkSky  Wexford         0.9896  2020-02-17            2.2045   \n",
       "\n",
       "      DateThree  Five_Days_Ahead    DateFive Date_Scraped  \n",
       "237  2020-04-01           1.0814  2020-04-03   2020-03-29  \n",
       "238  2020-04-05           0.0954  2020-04-07   2020-04-02  \n",
       "239  2020-03-05           4.0729  2020-03-07   2020-03-02  \n",
       "240  2020-02-24           0.3246  2020-02-26   2020-02-21  \n",
       "241  2020-02-19           0.1221  2020-02-21   2020-02-16  "
      ]
     },
     "execution_count": 3,
     "metadata": {},
     "output_type": "execute_result"
    }
   ],
   "source": [
    "df.tail()"
   ]
  },
  {
   "cell_type": "code",
   "execution_count": 4,
   "metadata": {},
   "outputs": [],
   "source": [
    "#reading in the observed amounts for DarkSky\n",
    "actuals = pd.read_csv(\"observedValues.csv\", names=['Date', 'Amounts', 'Location'])"
   ]
  },
  {
   "cell_type": "code",
   "execution_count": 5,
   "metadata": {},
   "outputs": [
    {
     "data": {
      "text/html": [
       "<div>\n",
       "<style scoped>\n",
       "    .dataframe tbody tr th:only-of-type {\n",
       "        vertical-align: middle;\n",
       "    }\n",
       "\n",
       "    .dataframe tbody tr th {\n",
       "        vertical-align: top;\n",
       "    }\n",
       "\n",
       "    .dataframe thead th {\n",
       "        text-align: right;\n",
       "    }\n",
       "</style>\n",
       "<table border=\"1\" class=\"dataframe\">\n",
       "  <thead>\n",
       "    <tr style=\"text-align: right;\">\n",
       "      <th></th>\n",
       "      <th>Date</th>\n",
       "      <th>Amounts</th>\n",
       "      <th>Location</th>\n",
       "    </tr>\n",
       "  </thead>\n",
       "  <tbody>\n",
       "    <tr>\n",
       "      <td>335</td>\n",
       "      <td>2020-03-27</td>\n",
       "      <td>0.0792</td>\n",
       "      <td>Wexford</td>\n",
       "    </tr>\n",
       "    <tr>\n",
       "      <td>336</td>\n",
       "      <td>2020-03-28</td>\n",
       "      <td>0.0144</td>\n",
       "      <td>Wexford</td>\n",
       "    </tr>\n",
       "    <tr>\n",
       "      <td>337</td>\n",
       "      <td>2020-03-29</td>\n",
       "      <td>0.0000</td>\n",
       "      <td>Wexford</td>\n",
       "    </tr>\n",
       "    <tr>\n",
       "      <td>338</td>\n",
       "      <td>2020-03-30</td>\n",
       "      <td>0.1128</td>\n",
       "      <td>Wexford</td>\n",
       "    </tr>\n",
       "    <tr>\n",
       "      <td>339</td>\n",
       "      <td>2020-03-31</td>\n",
       "      <td>0.0576</td>\n",
       "      <td>Wexford</td>\n",
       "    </tr>\n",
       "  </tbody>\n",
       "</table>\n",
       "</div>"
      ],
      "text/plain": [
       "           Date  Amounts Location\n",
       "335  2020-03-27   0.0792  Wexford\n",
       "336  2020-03-28   0.0144  Wexford\n",
       "337  2020-03-29   0.0000  Wexford\n",
       "338  2020-03-30   0.1128  Wexford\n",
       "339  2020-03-31   0.0576  Wexford"
      ]
     },
     "execution_count": 5,
     "metadata": {},
     "output_type": "execute_result"
    }
   ],
   "source": [
    "actuals.tail()"
   ]
  },
  {
   "cell_type": "markdown",
   "metadata": {},
   "source": [
    "### One Day Ahead Predicted"
   ]
  },
  {
   "cell_type": "code",
   "execution_count": 6,
   "metadata": {},
   "outputs": [],
   "source": [
    "#creating a df for one day ahead predicted values\n",
    "OneDayAhead = df[['Provider','Location', 'One_Day_Ahead', 'DateOne']].copy()"
   ]
  },
  {
   "cell_type": "code",
   "execution_count": 7,
   "metadata": {},
   "outputs": [],
   "source": [
    "#changing date from object to a datetime\n",
    "OneDayAhead['Date'] = pd.to_datetime(OneDayAhead['DateOne'])"
   ]
  },
  {
   "cell_type": "code",
   "execution_count": 8,
   "metadata": {},
   "outputs": [],
   "source": [
    "#sorting the df by date\n",
    "OneDayAhead = OneDayAhead.sort_values(by='DateOne')"
   ]
  },
  {
   "cell_type": "markdown",
   "metadata": {},
   "source": [
    "### Actuals"
   ]
  },
  {
   "cell_type": "code",
   "execution_count": 9,
   "metadata": {},
   "outputs": [],
   "source": [
    "#changing column date from object to datetime in the actuals df\n",
    "actuals['Date']= pd.to_datetime(actuals['Date'])"
   ]
  },
  {
   "cell_type": "code",
   "execution_count": 10,
   "metadata": {},
   "outputs": [
    {
     "data": {
      "text/html": [
       "<div>\n",
       "<style scoped>\n",
       "    .dataframe tbody tr th:only-of-type {\n",
       "        vertical-align: middle;\n",
       "    }\n",
       "\n",
       "    .dataframe tbody tr th {\n",
       "        vertical-align: top;\n",
       "    }\n",
       "\n",
       "    .dataframe thead th {\n",
       "        text-align: right;\n",
       "    }\n",
       "</style>\n",
       "<table border=\"1\" class=\"dataframe\">\n",
       "  <thead>\n",
       "    <tr style=\"text-align: right;\">\n",
       "      <th></th>\n",
       "      <th>Date</th>\n",
       "      <th>Amounts</th>\n",
       "      <th>Location</th>\n",
       "    </tr>\n",
       "  </thead>\n",
       "  <tbody>\n",
       "    <tr>\n",
       "      <td>335</td>\n",
       "      <td>2020-03-27</td>\n",
       "      <td>0.0792</td>\n",
       "      <td>Wexford</td>\n",
       "    </tr>\n",
       "    <tr>\n",
       "      <td>336</td>\n",
       "      <td>2020-03-28</td>\n",
       "      <td>0.0144</td>\n",
       "      <td>Wexford</td>\n",
       "    </tr>\n",
       "    <tr>\n",
       "      <td>337</td>\n",
       "      <td>2020-03-29</td>\n",
       "      <td>0.0000</td>\n",
       "      <td>Wexford</td>\n",
       "    </tr>\n",
       "    <tr>\n",
       "      <td>338</td>\n",
       "      <td>2020-03-30</td>\n",
       "      <td>0.1128</td>\n",
       "      <td>Wexford</td>\n",
       "    </tr>\n",
       "    <tr>\n",
       "      <td>339</td>\n",
       "      <td>2020-03-31</td>\n",
       "      <td>0.0576</td>\n",
       "      <td>Wexford</td>\n",
       "    </tr>\n",
       "  </tbody>\n",
       "</table>\n",
       "</div>"
      ],
      "text/plain": [
       "          Date  Amounts Location\n",
       "335 2020-03-27   0.0792  Wexford\n",
       "336 2020-03-28   0.0144  Wexford\n",
       "337 2020-03-29   0.0000  Wexford\n",
       "338 2020-03-30   0.1128  Wexford\n",
       "339 2020-03-31   0.0576  Wexford"
      ]
     },
     "execution_count": 10,
     "metadata": {},
     "output_type": "execute_result"
    }
   ],
   "source": [
    "actuals.tail()"
   ]
  },
  {
   "cell_type": "code",
   "execution_count": 11,
   "metadata": {},
   "outputs": [],
   "source": [
    "#getting the portion of dates which are relevant to the predicted dates\n",
    "start_date = '2020-02-04'\n",
    "end_date = '2020-03-31'\n",
    "mask = (actuals['Date'] >= start_date) & (actuals['Date'] <= end_date)"
   ]
  },
  {
   "cell_type": "code",
   "execution_count": 12,
   "metadata": {},
   "outputs": [],
   "source": [
    "actual = actuals.loc[mask]"
   ]
  },
  {
   "cell_type": "code",
   "execution_count": 13,
   "metadata": {},
   "outputs": [],
   "source": [
    "actual = actual.sort_values(by='Date')"
   ]
  },
  {
   "cell_type": "code",
   "execution_count": 14,
   "metadata": {},
   "outputs": [
    {
     "data": {
      "text/html": [
       "<div>\n",
       "<style scoped>\n",
       "    .dataframe tbody tr th:only-of-type {\n",
       "        vertical-align: middle;\n",
       "    }\n",
       "\n",
       "    .dataframe tbody tr th {\n",
       "        vertical-align: top;\n",
       "    }\n",
       "\n",
       "    .dataframe thead th {\n",
       "        text-align: right;\n",
       "    }\n",
       "</style>\n",
       "<table border=\"1\" class=\"dataframe\">\n",
       "  <thead>\n",
       "    <tr style=\"text-align: right;\">\n",
       "      <th></th>\n",
       "      <th>Date</th>\n",
       "      <th>Amounts</th>\n",
       "      <th>Location</th>\n",
       "    </tr>\n",
       "  </thead>\n",
       "  <tbody>\n",
       "    <tr>\n",
       "      <td>28</td>\n",
       "      <td>2020-02-04</td>\n",
       "      <td>0.5088</td>\n",
       "      <td>Dublin</td>\n",
       "    </tr>\n",
       "    <tr>\n",
       "      <td>113</td>\n",
       "      <td>2020-02-04</td>\n",
       "      <td>0.7968</td>\n",
       "      <td>Mayo</td>\n",
       "    </tr>\n",
       "    <tr>\n",
       "      <td>283</td>\n",
       "      <td>2020-02-04</td>\n",
       "      <td>0.0648</td>\n",
       "      <td>Wexford</td>\n",
       "    </tr>\n",
       "    <tr>\n",
       "      <td>198</td>\n",
       "      <td>2020-02-04</td>\n",
       "      <td>2.3856</td>\n",
       "      <td>Donegal</td>\n",
       "    </tr>\n",
       "    <tr>\n",
       "      <td>284</td>\n",
       "      <td>2020-02-05</td>\n",
       "      <td>0.0480</td>\n",
       "      <td>Wexford</td>\n",
       "    </tr>\n",
       "    <tr>\n",
       "      <td>...</td>\n",
       "      <td>...</td>\n",
       "      <td>...</td>\n",
       "      <td>...</td>\n",
       "    </tr>\n",
       "    <tr>\n",
       "      <td>83</td>\n",
       "      <td>2020-03-30</td>\n",
       "      <td>0.2568</td>\n",
       "      <td>Dublin</td>\n",
       "    </tr>\n",
       "    <tr>\n",
       "      <td>169</td>\n",
       "      <td>2020-03-31</td>\n",
       "      <td>0.0552</td>\n",
       "      <td>Mayo</td>\n",
       "    </tr>\n",
       "    <tr>\n",
       "      <td>84</td>\n",
       "      <td>2020-03-31</td>\n",
       "      <td>0.1464</td>\n",
       "      <td>Dublin</td>\n",
       "    </tr>\n",
       "    <tr>\n",
       "      <td>254</td>\n",
       "      <td>2020-03-31</td>\n",
       "      <td>0.2376</td>\n",
       "      <td>Donegal</td>\n",
       "    </tr>\n",
       "    <tr>\n",
       "      <td>339</td>\n",
       "      <td>2020-03-31</td>\n",
       "      <td>0.0576</td>\n",
       "      <td>Wexford</td>\n",
       "    </tr>\n",
       "  </tbody>\n",
       "</table>\n",
       "<p>228 rows × 3 columns</p>\n",
       "</div>"
      ],
      "text/plain": [
       "          Date  Amounts Location\n",
       "28  2020-02-04   0.5088   Dublin\n",
       "113 2020-02-04   0.7968     Mayo\n",
       "283 2020-02-04   0.0648  Wexford\n",
       "198 2020-02-04   2.3856  Donegal\n",
       "284 2020-02-05   0.0480  Wexford\n",
       "..         ...      ...      ...\n",
       "83  2020-03-30   0.2568   Dublin\n",
       "169 2020-03-31   0.0552     Mayo\n",
       "84  2020-03-31   0.1464   Dublin\n",
       "254 2020-03-31   0.2376  Donegal\n",
       "339 2020-03-31   0.0576  Wexford\n",
       "\n",
       "[228 rows x 3 columns]"
      ]
     },
     "execution_count": 14,
     "metadata": {},
     "output_type": "execute_result"
    }
   ],
   "source": [
    "actual"
   ]
  },
  {
   "cell_type": "code",
   "execution_count": 15,
   "metadata": {},
   "outputs": [],
   "source": [
    "#merging actuals and onedayahead on the columns date and location\n",
    "result = pd.merge(OneDayAhead, actual, on=['Date', 'Location'])"
   ]
  },
  {
   "cell_type": "code",
   "execution_count": 16,
   "metadata": {},
   "outputs": [
    {
     "data": {
      "text/html": [
       "<div>\n",
       "<style scoped>\n",
       "    .dataframe tbody tr th:only-of-type {\n",
       "        vertical-align: middle;\n",
       "    }\n",
       "\n",
       "    .dataframe tbody tr th {\n",
       "        vertical-align: top;\n",
       "    }\n",
       "\n",
       "    .dataframe thead th {\n",
       "        text-align: right;\n",
       "    }\n",
       "</style>\n",
       "<table border=\"1\" class=\"dataframe\">\n",
       "  <thead>\n",
       "    <tr style=\"text-align: right;\">\n",
       "      <th></th>\n",
       "      <th>Provider</th>\n",
       "      <th>Location</th>\n",
       "      <th>One_Day_Ahead</th>\n",
       "      <th>DateOne</th>\n",
       "      <th>Date</th>\n",
       "      <th>Amounts</th>\n",
       "    </tr>\n",
       "  </thead>\n",
       "  <tbody>\n",
       "    <tr>\n",
       "      <td>0</td>\n",
       "      <td>DarkSky</td>\n",
       "      <td>Donegal</td>\n",
       "      <td>2.8255</td>\n",
       "      <td>2020-02-04</td>\n",
       "      <td>2020-02-04</td>\n",
       "      <td>2.3856</td>\n",
       "    </tr>\n",
       "    <tr>\n",
       "      <td>1</td>\n",
       "      <td>DarkSky</td>\n",
       "      <td>Mayo</td>\n",
       "      <td>2.5145</td>\n",
       "      <td>2020-02-04</td>\n",
       "      <td>2020-02-04</td>\n",
       "      <td>0.7968</td>\n",
       "    </tr>\n",
       "    <tr>\n",
       "      <td>2</td>\n",
       "      <td>DarkSky</td>\n",
       "      <td>Wexford</td>\n",
       "      <td>0.4756</td>\n",
       "      <td>2020-02-04</td>\n",
       "      <td>2020-02-04</td>\n",
       "      <td>0.0648</td>\n",
       "    </tr>\n",
       "    <tr>\n",
       "      <td>3</td>\n",
       "      <td>DarkSky</td>\n",
       "      <td>Dublin</td>\n",
       "      <td>0.5665</td>\n",
       "      <td>2020-02-04</td>\n",
       "      <td>2020-02-04</td>\n",
       "      <td>0.5088</td>\n",
       "    </tr>\n",
       "    <tr>\n",
       "      <td>4</td>\n",
       "      <td>DarkSky</td>\n",
       "      <td>Dublin</td>\n",
       "      <td>0.0716</td>\n",
       "      <td>2020-02-05</td>\n",
       "      <td>2020-02-05</td>\n",
       "      <td>0.0480</td>\n",
       "    </tr>\n",
       "    <tr>\n",
       "      <td>...</td>\n",
       "      <td>...</td>\n",
       "      <td>...</td>\n",
       "      <td>...</td>\n",
       "      <td>...</td>\n",
       "      <td>...</td>\n",
       "      <td>...</td>\n",
       "    </tr>\n",
       "    <tr>\n",
       "      <td>223</td>\n",
       "      <td>DarkSky</td>\n",
       "      <td>Donegal</td>\n",
       "      <td>0.0405</td>\n",
       "      <td>2020-03-30</td>\n",
       "      <td>2020-03-30</td>\n",
       "      <td>0.1488</td>\n",
       "    </tr>\n",
       "    <tr>\n",
       "      <td>224</td>\n",
       "      <td>DarkSky</td>\n",
       "      <td>Wexford</td>\n",
       "      <td>0.0994</td>\n",
       "      <td>2020-03-31</td>\n",
       "      <td>2020-03-31</td>\n",
       "      <td>0.0576</td>\n",
       "    </tr>\n",
       "    <tr>\n",
       "      <td>225</td>\n",
       "      <td>DarkSky</td>\n",
       "      <td>Mayo</td>\n",
       "      <td>0.0546</td>\n",
       "      <td>2020-03-31</td>\n",
       "      <td>2020-03-31</td>\n",
       "      <td>0.0552</td>\n",
       "    </tr>\n",
       "    <tr>\n",
       "      <td>226</td>\n",
       "      <td>DarkSky</td>\n",
       "      <td>Donegal</td>\n",
       "      <td>0.1552</td>\n",
       "      <td>2020-03-31</td>\n",
       "      <td>2020-03-31</td>\n",
       "      <td>0.2376</td>\n",
       "    </tr>\n",
       "    <tr>\n",
       "      <td>227</td>\n",
       "      <td>DarkSky</td>\n",
       "      <td>Dublin</td>\n",
       "      <td>0.1284</td>\n",
       "      <td>2020-03-31</td>\n",
       "      <td>2020-03-31</td>\n",
       "      <td>0.1464</td>\n",
       "    </tr>\n",
       "  </tbody>\n",
       "</table>\n",
       "<p>228 rows × 6 columns</p>\n",
       "</div>"
      ],
      "text/plain": [
       "    Provider Location  One_Day_Ahead     DateOne       Date  Amounts\n",
       "0    DarkSky  Donegal         2.8255  2020-02-04 2020-02-04   2.3856\n",
       "1    DarkSky     Mayo         2.5145  2020-02-04 2020-02-04   0.7968\n",
       "2    DarkSky  Wexford         0.4756  2020-02-04 2020-02-04   0.0648\n",
       "3    DarkSky   Dublin         0.5665  2020-02-04 2020-02-04   0.5088\n",
       "4    DarkSky   Dublin         0.0716  2020-02-05 2020-02-05   0.0480\n",
       "..       ...      ...            ...         ...        ...      ...\n",
       "223  DarkSky  Donegal         0.0405  2020-03-30 2020-03-30   0.1488\n",
       "224  DarkSky  Wexford         0.0994  2020-03-31 2020-03-31   0.0576\n",
       "225  DarkSky     Mayo         0.0546  2020-03-31 2020-03-31   0.0552\n",
       "226  DarkSky  Donegal         0.1552  2020-03-31 2020-03-31   0.2376\n",
       "227  DarkSky   Dublin         0.1284  2020-03-31 2020-03-31   0.1464\n",
       "\n",
       "[228 rows x 6 columns]"
      ]
     },
     "execution_count": 16,
     "metadata": {},
     "output_type": "execute_result"
    }
   ],
   "source": [
    "result"
   ]
  },
  {
   "cell_type": "code",
   "execution_count": 17,
   "metadata": {},
   "outputs": [],
   "source": [
    "#getting the difference between the observed and predicted precipitation amounts\n",
    "result[\"Difference\"] = result['One_Day_Ahead'] - result['Amounts']"
   ]
  },
  {
   "cell_type": "code",
   "execution_count": 18,
   "metadata": {},
   "outputs": [
    {
     "data": {
      "text/html": [
       "<div>\n",
       "<style scoped>\n",
       "    .dataframe tbody tr th:only-of-type {\n",
       "        vertical-align: middle;\n",
       "    }\n",
       "\n",
       "    .dataframe tbody tr th {\n",
       "        vertical-align: top;\n",
       "    }\n",
       "\n",
       "    .dataframe thead th {\n",
       "        text-align: right;\n",
       "    }\n",
       "</style>\n",
       "<table border=\"1\" class=\"dataframe\">\n",
       "  <thead>\n",
       "    <tr style=\"text-align: right;\">\n",
       "      <th></th>\n",
       "      <th>Provider</th>\n",
       "      <th>Location</th>\n",
       "      <th>One_Day_Ahead</th>\n",
       "      <th>DateOne</th>\n",
       "      <th>Date</th>\n",
       "      <th>Amounts</th>\n",
       "      <th>Difference</th>\n",
       "    </tr>\n",
       "  </thead>\n",
       "  <tbody>\n",
       "    <tr>\n",
       "      <td>0</td>\n",
       "      <td>DarkSky</td>\n",
       "      <td>Donegal</td>\n",
       "      <td>2.8255</td>\n",
       "      <td>2020-02-04</td>\n",
       "      <td>2020-02-04</td>\n",
       "      <td>2.3856</td>\n",
       "      <td>0.4399</td>\n",
       "    </tr>\n",
       "    <tr>\n",
       "      <td>1</td>\n",
       "      <td>DarkSky</td>\n",
       "      <td>Mayo</td>\n",
       "      <td>2.5145</td>\n",
       "      <td>2020-02-04</td>\n",
       "      <td>2020-02-04</td>\n",
       "      <td>0.7968</td>\n",
       "      <td>1.7177</td>\n",
       "    </tr>\n",
       "    <tr>\n",
       "      <td>2</td>\n",
       "      <td>DarkSky</td>\n",
       "      <td>Wexford</td>\n",
       "      <td>0.4756</td>\n",
       "      <td>2020-02-04</td>\n",
       "      <td>2020-02-04</td>\n",
       "      <td>0.0648</td>\n",
       "      <td>0.4108</td>\n",
       "    </tr>\n",
       "    <tr>\n",
       "      <td>3</td>\n",
       "      <td>DarkSky</td>\n",
       "      <td>Dublin</td>\n",
       "      <td>0.5665</td>\n",
       "      <td>2020-02-04</td>\n",
       "      <td>2020-02-04</td>\n",
       "      <td>0.5088</td>\n",
       "      <td>0.0577</td>\n",
       "    </tr>\n",
       "    <tr>\n",
       "      <td>4</td>\n",
       "      <td>DarkSky</td>\n",
       "      <td>Dublin</td>\n",
       "      <td>0.0716</td>\n",
       "      <td>2020-02-05</td>\n",
       "      <td>2020-02-05</td>\n",
       "      <td>0.0480</td>\n",
       "      <td>0.0236</td>\n",
       "    </tr>\n",
       "    <tr>\n",
       "      <td>...</td>\n",
       "      <td>...</td>\n",
       "      <td>...</td>\n",
       "      <td>...</td>\n",
       "      <td>...</td>\n",
       "      <td>...</td>\n",
       "      <td>...</td>\n",
       "      <td>...</td>\n",
       "    </tr>\n",
       "    <tr>\n",
       "      <td>223</td>\n",
       "      <td>DarkSky</td>\n",
       "      <td>Donegal</td>\n",
       "      <td>0.0405</td>\n",
       "      <td>2020-03-30</td>\n",
       "      <td>2020-03-30</td>\n",
       "      <td>0.1488</td>\n",
       "      <td>-0.1083</td>\n",
       "    </tr>\n",
       "    <tr>\n",
       "      <td>224</td>\n",
       "      <td>DarkSky</td>\n",
       "      <td>Wexford</td>\n",
       "      <td>0.0994</td>\n",
       "      <td>2020-03-31</td>\n",
       "      <td>2020-03-31</td>\n",
       "      <td>0.0576</td>\n",
       "      <td>0.0418</td>\n",
       "    </tr>\n",
       "    <tr>\n",
       "      <td>225</td>\n",
       "      <td>DarkSky</td>\n",
       "      <td>Mayo</td>\n",
       "      <td>0.0546</td>\n",
       "      <td>2020-03-31</td>\n",
       "      <td>2020-03-31</td>\n",
       "      <td>0.0552</td>\n",
       "      <td>-0.0006</td>\n",
       "    </tr>\n",
       "    <tr>\n",
       "      <td>226</td>\n",
       "      <td>DarkSky</td>\n",
       "      <td>Donegal</td>\n",
       "      <td>0.1552</td>\n",
       "      <td>2020-03-31</td>\n",
       "      <td>2020-03-31</td>\n",
       "      <td>0.2376</td>\n",
       "      <td>-0.0824</td>\n",
       "    </tr>\n",
       "    <tr>\n",
       "      <td>227</td>\n",
       "      <td>DarkSky</td>\n",
       "      <td>Dublin</td>\n",
       "      <td>0.1284</td>\n",
       "      <td>2020-03-31</td>\n",
       "      <td>2020-03-31</td>\n",
       "      <td>0.1464</td>\n",
       "      <td>-0.0180</td>\n",
       "    </tr>\n",
       "  </tbody>\n",
       "</table>\n",
       "<p>228 rows × 7 columns</p>\n",
       "</div>"
      ],
      "text/plain": [
       "    Provider Location  One_Day_Ahead     DateOne       Date  Amounts  \\\n",
       "0    DarkSky  Donegal         2.8255  2020-02-04 2020-02-04   2.3856   \n",
       "1    DarkSky     Mayo         2.5145  2020-02-04 2020-02-04   0.7968   \n",
       "2    DarkSky  Wexford         0.4756  2020-02-04 2020-02-04   0.0648   \n",
       "3    DarkSky   Dublin         0.5665  2020-02-04 2020-02-04   0.5088   \n",
       "4    DarkSky   Dublin         0.0716  2020-02-05 2020-02-05   0.0480   \n",
       "..       ...      ...            ...         ...        ...      ...   \n",
       "223  DarkSky  Donegal         0.0405  2020-03-30 2020-03-30   0.1488   \n",
       "224  DarkSky  Wexford         0.0994  2020-03-31 2020-03-31   0.0576   \n",
       "225  DarkSky     Mayo         0.0546  2020-03-31 2020-03-31   0.0552   \n",
       "226  DarkSky  Donegal         0.1552  2020-03-31 2020-03-31   0.2376   \n",
       "227  DarkSky   Dublin         0.1284  2020-03-31 2020-03-31   0.1464   \n",
       "\n",
       "     Difference  \n",
       "0        0.4399  \n",
       "1        1.7177  \n",
       "2        0.4108  \n",
       "3        0.0577  \n",
       "4        0.0236  \n",
       "..          ...  \n",
       "223     -0.1083  \n",
       "224      0.0418  \n",
       "225     -0.0006  \n",
       "226     -0.0824  \n",
       "227     -0.0180  \n",
       "\n",
       "[228 rows x 7 columns]"
      ]
     },
     "execution_count": 18,
     "metadata": {},
     "output_type": "execute_result"
    }
   ],
   "source": [
    "result"
   ]
  },
  {
   "cell_type": "code",
   "execution_count": 19,
   "metadata": {},
   "outputs": [],
   "source": [
    "import matplotlib.pyplot as plt  "
   ]
  },
  {
   "cell_type": "code",
   "execution_count": 20,
   "metadata": {},
   "outputs": [
    {
     "data": {
      "image/png": "[encoded data removed]",
      "text/plain": [
       "<Figure size 576x432 with 1 Axes>"
      ]
     },
     "metadata": {
      "needs_background": "light"
     },
     "output_type": "display_data"
    }
   ],
   "source": [
    "#creating boxplot of the difference by location\n",
    "boxplotOne = result.boxplot(by = 'Location', column = ['Difference'], figsize=(8, 6), )"
   ]
  },
  {
   "cell_type": "code",
   "execution_count": 22,
   "metadata": {},
   "outputs": [
    {
     "data": {
      "text/plain": [
       "3.164684380732006"
      ]
     },
     "execution_count": 22,
     "metadata": {},
     "output_type": "execute_result"
    }
   ],
   "source": [
    "from sklearn.metrics import mean_squared_error\n",
    "from math import sqrt\n",
    "# getting the RMSE of the columns\n",
    "rms = sqrt(mean_squared_error(result[\"Amounts\"], result[\"One_Day_Ahead\"]))\n",
    "rms"
   ]
  },
  {
   "cell_type": "code",
   "execution_count": 23,
   "metadata": {},
   "outputs": [
    {
     "data": {
      "image/png": "[encoded data removed]",
      "text/plain": [
       "<Figure size 576x432 with 1 Axes>"
      ]
     },
     "metadata": {
      "needs_background": "light"
     },
     "output_type": "display_data"
    }
   ],
   "source": [
    "#doing the same as above but with three day ahead\n",
    "ThreeDayAhead = df[['Provider','Location', 'Three_Days_Ahead', 'DateThree']].copy()\n",
    "ThreeDayAhead['Date'] = pd.to_datetime(ThreeDayAhead['DateThree'])\n",
    "resultThree = pd.merge(ThreeDayAhead, actual, on=['Date', 'Location'])\n",
    "resultThree[\"Difference\"] = resultThree['Three_Days_Ahead'] - resultThree['Amounts']\n",
    "boxplotThree = resultThree.boxplot(by = 'Location', column = ['Difference'], figsize=(8, 6))\n"
   ]
  },
  {
   "cell_type": "code",
   "execution_count": 24,
   "metadata": {},
   "outputs": [
    {
     "data": {
      "text/plain": [
       "3.931628065394105"
      ]
     },
     "execution_count": 24,
     "metadata": {},
     "output_type": "execute_result"
    }
   ],
   "source": [
    "rmsThree = sqrt(mean_squared_error(resultThree[\"Amounts\"], resultThree[\"Three_Days_Ahead\"]))\n",
    "rmsThree"
   ]
  },
  {
   "cell_type": "code",
   "execution_count": 25,
   "metadata": {},
   "outputs": [
    {
     "data": {
      "image/png": "[encoded data removed]",
      "text/plain": [
       "<Figure size 576x432 with 1 Axes>"
      ]
     },
     "metadata": {
      "needs_background": "light"
     },
     "output_type": "display_data"
    }
   ],
   "source": [
    "#doing the same as above but with five day ahead\n",
    "FiveDayAhead = df[['Provider','Location', 'Five_Days_Ahead', 'DateFive']].copy()\n",
    "FiveDayAhead['Date'] = pd.to_datetime(FiveDayAhead['DateFive'])\n",
    "resultFive = pd.merge(FiveDayAhead, actual, on=['Date', 'Location'])\n",
    "resultFive[\"Difference\"] = resultFive['Five_Days_Ahead'] - resultFive['Amounts']\n",
    "boxplotFive = resultFive.boxplot(by = 'Location', column = ['Difference'], figsize=(8, 6))"
   ]
  },
  {
   "cell_type": "markdown",
   "metadata": {},
   "source": []
  },
  {
   "cell_type": "code",
   "execution_count": 26,
   "metadata": {},
   "outputs": [
    {
     "data": {
      "text/plain": [
       "5.058302512179321"
      ]
     },
     "execution_count": 26,
     "metadata": {},
     "output_type": "execute_result"
    }
   ],
   "source": [
    "rmsFive = sqrt(mean_squared_error(resultFive[\"Amounts\"], resultFive[\"Five_Days_Ahead\"]))\n",
    "rmsFive"
   ]
  },
  {
   "cell_type": "code",
   "execution_count": 27,
   "metadata": {},
   "outputs": [
    {
     "data": {
      "text/html": [
       "<div>\n",
       "<style scoped>\n",
       "    .dataframe tbody tr th:only-of-type {\n",
       "        vertical-align: middle;\n",
       "    }\n",
       "\n",
       "    .dataframe tbody tr th {\n",
       "        vertical-align: top;\n",
       "    }\n",
       "\n",
       "    .dataframe thead th {\n",
       "        text-align: right;\n",
       "    }\n",
       "</style>\n",
       "<table border=\"1\" class=\"dataframe\">\n",
       "  <thead>\n",
       "    <tr style=\"text-align: right;\">\n",
       "      <th></th>\n",
       "      <th>Provider</th>\n",
       "      <th>Location</th>\n",
       "      <th>Five_Days_Ahead</th>\n",
       "      <th>DateFive</th>\n",
       "      <th>Date</th>\n",
       "      <th>Amounts</th>\n",
       "      <th>Difference</th>\n",
       "    </tr>\n",
       "  </thead>\n",
       "  <tbody>\n",
       "    <tr>\n",
       "      <td>0</td>\n",
       "      <td>DarkSky</td>\n",
       "      <td>Donegal</td>\n",
       "      <td>0.1252</td>\n",
       "      <td>2020-03-20</td>\n",
       "      <td>2020-03-20</td>\n",
       "      <td>0.0864</td>\n",
       "      <td>0.0388</td>\n",
       "    </tr>\n",
       "    <tr>\n",
       "      <td>1</td>\n",
       "      <td>DarkSky</td>\n",
       "      <td>Donegal</td>\n",
       "      <td>0.8009</td>\n",
       "      <td>2020-03-27</td>\n",
       "      <td>2020-03-27</td>\n",
       "      <td>0.0360</td>\n",
       "      <td>0.7649</td>\n",
       "    </tr>\n",
       "    <tr>\n",
       "      <td>2</td>\n",
       "      <td>DarkSky</td>\n",
       "      <td>Donegal</td>\n",
       "      <td>10.1481</td>\n",
       "      <td>2020-03-14</td>\n",
       "      <td>2020-03-14</td>\n",
       "      <td>6.7032</td>\n",
       "      <td>3.4449</td>\n",
       "    </tr>\n",
       "    <tr>\n",
       "      <td>3</td>\n",
       "      <td>DarkSky</td>\n",
       "      <td>Donegal</td>\n",
       "      <td>0.2759</td>\n",
       "      <td>2020-03-23</td>\n",
       "      <td>2020-03-23</td>\n",
       "      <td>0.1944</td>\n",
       "      <td>0.0815</td>\n",
       "    </tr>\n",
       "    <tr>\n",
       "      <td>4</td>\n",
       "      <td>DarkSky</td>\n",
       "      <td>Donegal</td>\n",
       "      <td>17.3164</td>\n",
       "      <td>2020-03-09</td>\n",
       "      <td>2020-03-09</td>\n",
       "      <td>18.1056</td>\n",
       "      <td>-0.7892</td>\n",
       "    </tr>\n",
       "    <tr>\n",
       "      <td>...</td>\n",
       "      <td>...</td>\n",
       "      <td>...</td>\n",
       "      <td>...</td>\n",
       "      <td>...</td>\n",
       "      <td>...</td>\n",
       "      <td>...</td>\n",
       "      <td>...</td>\n",
       "    </tr>\n",
       "    <tr>\n",
       "      <td>209</td>\n",
       "      <td>DarkSky</td>\n",
       "      <td>Wexford</td>\n",
       "      <td>0.1289</td>\n",
       "      <td>2020-03-18</td>\n",
       "      <td>2020-03-18</td>\n",
       "      <td>7.3632</td>\n",
       "      <td>-7.2343</td>\n",
       "    </tr>\n",
       "    <tr>\n",
       "      <td>210</td>\n",
       "      <td>DarkSky</td>\n",
       "      <td>Wexford</td>\n",
       "      <td>0.5572</td>\n",
       "      <td>2020-03-29</td>\n",
       "      <td>2020-03-29</td>\n",
       "      <td>0.0000</td>\n",
       "      <td>0.5572</td>\n",
       "    </tr>\n",
       "    <tr>\n",
       "      <td>211</td>\n",
       "      <td>DarkSky</td>\n",
       "      <td>Wexford</td>\n",
       "      <td>4.0729</td>\n",
       "      <td>2020-03-07</td>\n",
       "      <td>2020-03-07</td>\n",
       "      <td>4.7736</td>\n",
       "      <td>-0.7007</td>\n",
       "    </tr>\n",
       "    <tr>\n",
       "      <td>212</td>\n",
       "      <td>DarkSky</td>\n",
       "      <td>Wexford</td>\n",
       "      <td>0.3246</td>\n",
       "      <td>2020-02-26</td>\n",
       "      <td>2020-02-26</td>\n",
       "      <td>0.4704</td>\n",
       "      <td>-0.1458</td>\n",
       "    </tr>\n",
       "    <tr>\n",
       "      <td>213</td>\n",
       "      <td>DarkSky</td>\n",
       "      <td>Wexford</td>\n",
       "      <td>0.1221</td>\n",
       "      <td>2020-02-21</td>\n",
       "      <td>2020-02-21</td>\n",
       "      <td>3.4032</td>\n",
       "      <td>-3.2811</td>\n",
       "    </tr>\n",
       "  </tbody>\n",
       "</table>\n",
       "<p>214 rows × 7 columns</p>\n",
       "</div>"
      ],
      "text/plain": [
       "    Provider Location  Five_Days_Ahead    DateFive       Date  Amounts  \\\n",
       "0    DarkSky  Donegal           0.1252  2020-03-20 2020-03-20   0.0864   \n",
       "1    DarkSky  Donegal           0.8009  2020-03-27 2020-03-27   0.0360   \n",
       "2    DarkSky  Donegal          10.1481  2020-03-14 2020-03-14   6.7032   \n",
       "3    DarkSky  Donegal           0.2759  2020-03-23 2020-03-23   0.1944   \n",
       "4    DarkSky  Donegal          17.3164  2020-03-09 2020-03-09  18.1056   \n",
       "..       ...      ...              ...         ...        ...      ...   \n",
       "209  DarkSky  Wexford           0.1289  2020-03-18 2020-03-18   7.3632   \n",
       "210  DarkSky  Wexford           0.5572  2020-03-29 2020-03-29   0.0000   \n",
       "211  DarkSky  Wexford           4.0729  2020-03-07 2020-03-07   4.7736   \n",
       "212  DarkSky  Wexford           0.3246  2020-02-26 2020-02-26   0.4704   \n",
       "213  DarkSky  Wexford           0.1221  2020-02-21 2020-02-21   3.4032   \n",
       "\n",
       "     Difference  \n",
       "0        0.0388  \n",
       "1        0.7649  \n",
       "2        3.4449  \n",
       "3        0.0815  \n",
       "4       -0.7892  \n",
       "..          ...  \n",
       "209     -7.2343  \n",
       "210      0.5572  \n",
       "211     -0.7007  \n",
       "212     -0.1458  \n",
       "213     -3.2811  \n",
       "\n",
       "[214 rows x 7 columns]"
      ]
     },
     "execution_count": 27,
     "metadata": {},
     "output_type": "execute_result"
    }
   ],
   "source": [
    "resultFive"
   ]
  },
  {
   "cell_type": "code",
   "execution_count": 28,
   "metadata": {},
   "outputs": [
    {
     "data": {
      "text/plain": [
       "3.164684380732006"
      ]
     },
     "execution_count": 28,
     "metadata": {},
     "output_type": "execute_result"
    }
   ],
   "source": [
    "rms"
   ]
  },
  {
   "cell_type": "code",
   "execution_count": 29,
   "metadata": {},
   "outputs": [
    {
     "data": {
      "text/plain": [
       "3.931628065394105"
      ]
     },
     "execution_count": 29,
     "metadata": {},
     "output_type": "execute_result"
    }
   ],
   "source": [
    "rmsThree"
   ]
  },
  {
   "cell_type": "code",
   "execution_count": 30,
   "metadata": {},
   "outputs": [
    {
     "data": {
      "text/plain": [
       "5.058302512179321"
      ]
     },
     "execution_count": 30,
     "metadata": {},
     "output_type": "execute_result"
    }
   ],
   "source": [
    "rmsFive"
   ]
  },
  {
   "cell_type": "markdown",
   "metadata": {},
   "source": [
    "# Finding Bias Severity"
   ]
  },
  {
   "cell_type": "code",
   "execution_count": 32,
   "metadata": {},
   "outputs": [],
   "source": [
    "#getting donegal only amounts \n",
    "DonegalOnly = result.loc[result[\"Location\"]== 'Donegal'].copy()"
   ]
  },
  {
   "cell_type": "code",
   "execution_count": 48,
   "metadata": {},
   "outputs": [],
   "source": [
    "#creating new column which sets rows to over or under the threshold\n",
    "DonegalOnly['Threshold'] = np.where(DonegalOnly['Amounts'] > DonegalOnly[\"Amounts\"].mean(), 'overThreshold', 'underThreshold')"
   ]
  },
  {
   "cell_type": "code",
   "execution_count": 49,
   "metadata": {},
   "outputs": [
    {
     "data": {
      "image/png": "[encoded data removed]",
      "text/plain": [
       "<Figure size 576x432 with 1 Axes>"
      ]
     },
     "metadata": {
      "needs_background": "light"
     },
     "output_type": "display_data"
    }
   ],
   "source": [
    "#creating a boxplot of this \n",
    "boxplotBig = DonegalOnly.boxplot(by = 'Threshold', column = ['Difference'], figsize=(8, 6))"
   ]
  },
  {
   "cell_type": "markdown",
   "metadata": {},
   "source": [
    "Checking other counties, just in case but primarily focusing on donegal as it has the greatest bias."
   ]
  },
  {
   "cell_type": "code",
   "execution_count": 50,
   "metadata": {},
   "outputs": [],
   "source": [
    "DublinOnly = result.loc[result[\"Location\"]== 'Dublin'].copy()\n",
    "MayoOnly = result.loc[result[\"Location\"]== 'Mayo'].copy()\n",
    "WexfordOnly = result.loc[result[\"Location\"]== 'Wexford'].copy()"
   ]
  },
  {
   "cell_type": "code",
   "execution_count": 51,
   "metadata": {},
   "outputs": [],
   "source": [
    "DublinOnly['Threshold'] = np.where(DublinOnly['Amounts'] > DublinOnly[\"Amounts\"].mean(), 'overThreshold', 'underThreshold')\n",
    "MayoOnly['Threshold'] = np.where(MayoOnly['Amounts'] > MayoOnly[\"Amounts\"].mean(), 'overThreshold', 'underThreshold')\n",
    "WexfordOnly['Threshold'] = np.where(WexfordOnly['Amounts'] > WexfordOnly[\"Amounts\"].mean(), 'overThreshold', 'underThreshold')"
   ]
  },
  {
   "cell_type": "code",
   "execution_count": 52,
   "metadata": {},
   "outputs": [
    {
     "data": {
      "image/png": "[encoded data removed]",
      "text/plain": [
       "<Figure size 576x432 with 1 Axes>"
      ]
     },
     "metadata": {
      "needs_background": "light"
     },
     "output_type": "display_data"
    }
   ],
   "source": [
    "boxplotBig = DublinOnly.boxplot(by = 'Threshold', column = ['Difference'], figsize=(8, 6))"
   ]
  },
  {
   "cell_type": "code",
   "execution_count": 53,
   "metadata": {},
   "outputs": [
    {
     "data": {
      "image/png": "[encoded data removed]",
      "text/plain": [
       "<Figure size 576x432 with 1 Axes>"
      ]
     },
     "metadata": {
      "needs_background": "light"
     },
     "output_type": "display_data"
    }
   ],
   "source": [
    "boxplotBig = MayoOnly.boxplot(by = 'Threshold', column = ['Difference'], figsize=(8, 6))"
   ]
  },
  {
   "cell_type": "code",
   "execution_count": 54,
   "metadata": {},
   "outputs": [
    {
     "data": {
      "image/png": "[encoded data removed]",
      "text/plain": [
       "<Figure size 576x432 with 1 Axes>"
      ]
     },
     "metadata": {
      "needs_background": "light"
     },
     "output_type": "display_data"
    }
   ],
   "source": [
    "boxplotBig = WexfordOnly.boxplot(by = 'Threshold', column = ['Difference'], figsize=(8, 6))"
   ]
  },
  {
   "cell_type": "markdown",
   "metadata": {},
   "source": [
    " # Seeing Bias in Different Counties"
   ]
  },
  {
   "cell_type": "code",
   "execution_count": 55,
   "metadata": {},
   "outputs": [],
   "source": [
    "result['Threshold'] = np.where(result['Amounts'] > result[\"Amounts\"].mean(), 'overThreshold', 'underThreshold')"
   ]
  },
  {
   "cell_type": "code",
   "execution_count": 57,
   "metadata": {},
   "outputs": [
    {
     "data": {
      "image/png": "[encoded data removed]",
      "text/plain": [
       "<Figure size 576x432 with 1 Axes>"
      ]
     },
     "metadata": {
      "needs_background": "light"
     },
     "output_type": "display_data"
    }
   ],
   "source": [
    "#creating df to visualise all counties over the threshold \n",
    "OverOnly = result.loc[result[\"Threshold\"]== 'overThreshold'].copy()\n",
    "#creating boxplot\n",
    "boxplotOver = OverOnly.boxplot(by = 'Location', column = ['Difference'], figsize=(8, 6))"
   ]
  },
  {
   "cell_type": "markdown",
   "metadata": {},
   "source": [
    "# Total Amount of Rain for each county"
   ]
  },
  {
   "cell_type": "code",
   "execution_count": 45,
   "metadata": {},
   "outputs": [],
   "source": [
    "#sum of the counties of observed amountis\n",
    "DubTotal = result.loc[result['Location'] == 'Dublin', 'Amounts'].sum()\n",
    "DonTotal = result.loc[result['Location'] == 'Donegal', 'Amounts'].sum()\n",
    "MayTotal = result.loc[result['Location'] == 'Mayo', 'Amounts'].sum()\n",
    "WexTotal = result.loc[result['Location'] == 'Wexford', 'Amounts'].sum()"
   ]
  },
  {
   "cell_type": "code",
   "execution_count": 46,
   "metadata": {},
   "outputs": [
    {
     "data": {
      "image/png": "[encoded data removed]",
      "text/plain": [
       "<Figure size 576x432 with 1 Axes>"
      ]
     },
     "metadata": {
      "needs_background": "light"
     },
     "output_type": "display_data"
    }
   ],
   "source": [
    "#creating df for barchart\n",
    "df1 = pd.DataFrame({'Location':['Dublin', 'Donegal', 'Wexford', 'Mayo'], 'Values':[DubTotal, DonTotal, MayTotal, WexTotal]})\n",
    "ax = df1.plot.bar(x= 'Location', y= 'Values', rot=0, figsize=(8, 6))"
   ]
  },
  {
   "cell_type": "code",
   "execution_count": 47,
   "metadata": {},
   "outputs": [
    {
     "data": {
      "text/plain": [
       "57.0"
      ]
     },
     "execution_count": 47,
     "metadata": {},
     "output_type": "execute_result"
    }
   ],
   "source": [
    "#getting amount of data days \n",
    "len(result)/4"
   ]
  },
  {
   "cell_type": "code",
   "execution_count": null,
   "metadata": {},
   "outputs": [],
   "source": []
  },
  {
   "cell_type": "code",
   "execution_count": null,
   "metadata": {},
   "outputs": [],
   "source": []
  }
 ],
 "metadata": {
  "kernelspec": {
   "display_name": "Python 3",
   "language": "python",
   "name": "python3"
  },
  "language_info": {
   "codemirror_mode": {
    "name": "ipython",
    "version": 3
   },
   "file_extension": ".py",
   "mimetype": "text/x-python",
   "name": "python",
   "nbconvert_exporter": "python",
   "pygments_lexer": "ipython3",
   "version": "3.7.4"
  }
 },
 "nbformat": 4,
 "nbformat_minor": 2
}
